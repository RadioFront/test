{
 "cells": [
  {
   "cell_type": "code",
   "execution_count": 1,
   "id": "090347b4",
   "metadata": {},
   "outputs": [],
   "source": [
    "from __future__ import absolute_import\n",
    "from __future__ import division\n",
    "from __future__ import print_function\n",
    "\n",
    "import time, sys\n",
    "from pymavlink import mavutil\n",
    "import threading\n",
    "import math\n",
    "\n",
    "#import base64\n",
    "#import imageio\n",
    "#import IPython\n",
    "#import matplotlib.pyplot as plt\n",
    "import numpy as np\n",
    "import os\n",
    "#import PIL.Image\n",
    "#import pyvirtualdisplay\n",
    "import reverb\n",
    "\n",
    "import tensorflow as tf\n",
    "\n",
    "from tf_agents.agents.reinforce import reinforce_agent\n",
    "from tf_agents.drivers import py_driver\n",
    "from tf_agents.networks import actor_distribution_network\n",
    "from tf_agents.policies import py_tf_eager_policy\n",
    "from tf_agents.policies import policy_saver\n",
    "from tf_agents.policies import random_tf_policy\n",
    "from tf_agents.replay_buffers import reverb_replay_buffer\n",
    "from tf_agents.replay_buffers import reverb_utils\n",
    "from tf_agents.specs import tensor_spec\n",
    "from tf_agents.specs import array_spec\n",
    "from tf_agents.trajectories import trajectory\n",
    "from tf_agents.trajectories import time_step as ts\n",
    "from tf_agents.utils import common\n",
    "from tf_agents.environments import py_environment\n",
    "from tf_agents.environments import tf_environment\n",
    "from tf_agents.environments import tf_py_environment\n",
    "from tf_agents.environments import utils\n",
    "from tf_agents.environments import wrappers\n",
    "from tf_agents.environments import suite_gym"
   ]
  },
  {
   "cell_type": "code",
   "execution_count": 2,
   "id": "ad322efb",
   "metadata": {},
   "outputs": [],
   "source": [
    "#####################\n",
    "# parameters\n",
    "target_elevation = 50\n",
    "period_action = 0.1\n",
    "period_telemetry = 0.1\n",
    "frequency_message = 10\n",
    "period_set_position = 1/5\n",
    "time_arm_mode = 1\n",
    "time_settling = 10\n",
    "stamp_state = time.time()\n",
    "stamp_telemetry = time.time()\n",
    "stamp_set_position = time.time()\n",
    "period_delay = 0.01\n",
    "time_steady_state = 1\n",
    "#no_sample=1200\n",
    "sample_period = 0.1\n",
    "mode = \"none\"\n",
    "state = \"arm\"\n",
    "stampState=time.time()\n",
    "stampMode=time.time()\n",
    "vec_telemetry=[]\n",
    "vec_pid_update=[]\n",
    "#####################\n",
    "# drone controller parameters\n",
    "## Rate Controller\n",
    "MC_ROLLRATE_K = 1.0 #0.3 - 3\n",
    "MC_ROLLRATE_D = 0.003 #0.0004 - 0.01\n",
    "MC_ROLLRATE_I = 0.2 #0.1 - 0.5\n",
    "MC_PITCHRATE_K = 1.0 #0.3 - 3\n",
    "MC_PITCHRATE_D = 0.003 #0.0004 - 0.01\n",
    "MC_PITCHRATE_I = 0.2 #0.1 - 0.5\n",
    "MC_YAWRATE_K = 1.0 #0.3 - 3\n",
    "MC_YAWRATE_I = 0.1 #0.04 - 0.4\n",
    "## Attitude Controller\n",
    "MC_ROLL_P = 6.5 #1-14\n",
    "MC_PITCH_P = 6.5 #1-14\n",
    "MC_YAW_P = 2.8 #1-5\n",
    "## Velocity Controller\n",
    "MPC_XY_VEL_P_ACC = 1.8 #1.2-5\n",
    "MPC_XY_VEL_I_ACC = 0.2 #0.2-10\n",
    "MPC_XY_VEL_D_ACC = 0.2 #0.1-2\n",
    "MPC_Z_VEL_P_ACC = 4.0 #2-15\n",
    "MPC_Z_VEL_I_ACC = 2.0 #0.2-3\n",
    "MPC_Z_VEL_D_ACC = 0.0 #0-2\n",
    "## Position Controller\n",
    "MPC_XY_P = 0.95 #0-2\n",
    "MPC_Z_P = 1.0 #0-2"
   ]
  },
  {
   "cell_type": "code",
   "execution_count": 3,
   "id": "9d93e2f8",
   "metadata": {},
   "outputs": [],
   "source": [
    "def px4_arm():\n",
    "    # Arm motors\n",
    "    state = \"arm\"\n",
    "    print(\"State:\",state)\n",
    "    master.mav.command_long_send(\n",
    "        master.target_system, master.target_component,\n",
    "        mavutil.mavlink.MAV_CMD_COMPONENT_ARM_DISARM,\n",
    "        0,\n",
    "        1, 0, 0, 0, 0, 0, 0)\n",
    "    master.motors_armed_wait()\n",
    "    state = \"set_mode\"\n",
    "    print(\"State:\",state)\n",
    "    stampState = time.time()\n",
    "    stampMode = time.time()\n",
    "\n",
    "def px4_steady_state():\n",
    "    ##### Put down at steady state\n",
    "    mode = \"none\"\n",
    "    state = \"set_mode\"\n",
    "    stampState = time.time()\n",
    "    stamp_set_position = time.time()\n",
    "    while mode!=\"steady_state\":\n",
    "        # set OFFBOARD mode\n",
    "        if state == \"set_mode\" and ( time.time() - stampState > time_arm_mode ):\n",
    "            master.mav.command_long_send(\n",
    "                master.target_system,\n",
    "                master.target_component,\n",
    "                mavutil.mavlink.MAV_CMD_DO_SET_MODE,\n",
    "                0,\n",
    "                209, 6, 0, 0, 0, 0, 0) #OFFBOARD mode\n",
    "            state = \"mode_wait\"\n",
    "            print(\"State:\",state)\n",
    "            stampState = time.time()\n",
    "\n",
    "        #wait fof OFFBOARD mode acknowledged\n",
    "        if state == \"mode_wait\" and ( time.time() - stampState > time_arm_mode):\n",
    "            ack_msg = master.recv_match(type='COMMAND_ACK')\n",
    "            if ack_msg:\n",
    "                ack_msg = ack_msg.to_dict()\n",
    "                if ack_msg['command'] == mavutil.mavlink.MAV_CMD_DO_SET_MODE:\n",
    "                    print(mavutil.mavlink.enums['MAV_RESULT'][ack_msg['result']].description)\n",
    "                    state = \"ramp_up\"\n",
    "                    stampState = time.time()\n",
    "                    print(\"State:\",state)\n",
    "                    \n",
    "        # wait till the drone reaches target position\n",
    "        if state == \"ramp_up\" and ( time.time() - stampState > time_settling):\n",
    "            state = \"flight_mode\"\n",
    "            print(\"State:\",state)\n",
    "            stampState = time.time()\n",
    "\n",
    "        # repeat position setup > 2 Hz, to avoid fail safe mode kick in\n",
    "        if time.time() - stamp_set_position > period_set_position:\n",
    "            stamp_set_position = time.time()\n",
    "            px4_set_target_depth_local(-target_elevation)\n",
    "\n",
    "        # unit delay\n",
    "        time.sleep(period_delay)\n",
    "\n",
    "        t_param='POSITION_TARGET_LOCAL_NED' #85\n",
    "        try: \n",
    "            POSITION_TARGET_LOCAL_NED_x= master.messages[t_param].x\n",
    "            #POSITION_TARGET_LOCAL_NED_y= master.messages[t_param].y\n",
    "            #POSITION_TARGET_LOCAL_NED_z= master.messages[t_param].z\n",
    "            #print(t_param, \":\", POSITION_TARGET_LOCAL_NED_x,POSITION_TARGET_LOCAL_NED_y,POSITION_TARGET_LOCAL_NED_z)\n",
    "            if mode == \"none\" and math.isnan(POSITION_TARGET_LOCAL_NED_x) == False:\n",
    "                mode = \"flight_mode\"\n",
    "                stampMode = time.time()\n",
    "                print(\"Mode:\",mode)\n",
    "        except:\n",
    "            print(t_param,\":\",'No message received')\n",
    "\n",
    "        t_param='LOCAL_POSITION_NED' #32\n",
    "        try: \n",
    "            LOCAL_POSITION_NED_x = master.messages[t_param].x\n",
    "            LOCAL_POSITION_NED_y = master.messages[t_param].y\n",
    "            LOCAL_POSITION_NED_z = master.messages[t_param].z\n",
    "            #print(t_param, \":\", LOCAL_POSITION_NED_x, LOCAL_POSITION_NED_y, LOCAL_POSITION_NED_z)\n",
    "            if mode == \"flight_mode\" and distance_target([LOCAL_POSITION_NED_x, LOCAL_POSITION_NED_y, LOCAL_POSITION_NED_z])<0.3:\n",
    "                mode = \"steady_state\"\n",
    "                stampMode = time.time()\n",
    "                print(\"Mode:\",mode)\n",
    "        except:\n",
    "            print(t_param, \":\", 'No message received')\n",
    "\n",
    "def distance_geo(A,B):\n",
    "    return math.sqrt( (A[0]-B[0])**2 + (A[1]-B[1])**2 + (A[2]-B[2])**2 )\n",
    "\n",
    "def distance_target(A):\n",
    "    return math.sqrt( A[0]**2 + A[1]**2 + (A[2]+target_elevation)**2 )\n",
    "\n",
    "def px4_request_message_interval(message_id: int, frequency_hz: float):\n",
    "    master.mav.command_long_send(\n",
    "        master.target_system, master.target_component,\n",
    "        mavutil.mavlink.MAV_CMD_SET_MESSAGE_INTERVAL, 0,\n",
    "        message_id, # The MAVLink message ID\n",
    "        1e6 / frequency_hz, # The interval between two messages in microseconds. Set to -1 to disable and 0 to request default rate.\n",
    "        0, 0, 0, 0, # Unused parameters\n",
    "        0, # Target address of message stream (if message has target address fields). 0: Flight-stack default (recommended), 1: address of requestor, 2: broadcast.\n",
    "    )\n",
    "\n",
    "def px4_set_target_depth_local(depth):\n",
    "    master.mav.set_position_target_local_ned_send( #84\n",
    "        int(1e3 * (time.time() - boot_time)), # ms since boot\n",
    "        master.target_system, master.target_component,\n",
    "        coordinate_frame=mavutil.mavlink.MAV_FRAME_LOCAL_NED,\n",
    "        type_mask=( # ignore everything except z position\n",
    "            # mavutil.mavlink.POSITION_TARGET_TYPEMASK_X_IGNORE |\n",
    "            # mavutil.mavlink.POSITION_TARGET_TYPEMASK_Y_IGNORE |\n",
    "            # mavutil.mavlink.POSITION_TARGET_TYPEMASK_Z_IGNORE |\n",
    "            mavutil.mavlink.POSITION_TARGET_TYPEMASK_VX_IGNORE |\n",
    "            mavutil.mavlink.POSITION_TARGET_TYPEMASK_VY_IGNORE |\n",
    "            mavutil.mavlink.POSITION_TARGET_TYPEMASK_VZ_IGNORE |\n",
    "            mavutil.mavlink.POSITION_TARGET_TYPEMASK_AX_IGNORE |\n",
    "            mavutil.mavlink.POSITION_TARGET_TYPEMASK_AY_IGNORE |\n",
    "            mavutil.mavlink.POSITION_TARGET_TYPEMASK_AZ_IGNORE |\n",
    "            mavutil.mavlink.POSITION_TARGET_TYPEMASK_FORCE_SET |\n",
    "            mavutil.mavlink.POSITION_TARGET_TYPEMASK_YAW_IGNORE |\n",
    "            mavutil.mavlink.POSITION_TARGET_TYPEMASK_YAW_RATE_IGNORE\n",
    "        ), x=0, y=0, z=depth,\n",
    "        vx=0, vy=0, vz=0, \n",
    "        afx=0, afy=0, afz=0, yaw=0, yaw_rate=0\n",
    "    )\n",
    "\n",
    "def px4_request_message():\n",
    "    px4_request_message_interval(mavutil.mavlink.MAVLINK_MSG_ID_SYS_STATUS, frequency_message) #1\n",
    "    px4_request_message_interval(mavutil.mavlink.MAVLINK_MSG_ID_SET_MODE, frequency_message) #1\n",
    "    px4_request_message_interval(mavutil.mavlink.MAVLINK_MSG_ID_GPS_RAW_INT, frequency_message) #24\n",
    "    px4_request_message_interval(mavutil.mavlink.MAVLINK_MSG_ID_SCALED_IMU, frequency_message) #26\n",
    "    px4_request_message_interval(mavutil.mavlink.MAVLINK_MSG_ID_ATTITUDE, frequency_message) #30\n",
    "    px4_request_message_interval(mavutil.mavlink.MAVLINK_MSG_ID_ATTITUDE_QUATERNION, frequency_message) #31\n",
    "    px4_request_message_interval(mavutil.mavlink.MAVLINK_MSG_ID_LOCAL_POSITION_NED, frequency_message) #32\n",
    "    px4_request_message_interval(mavutil.mavlink.MAVLINK_MSG_ID_GLOBAL_POSITION_INT, frequency_message) #33\n",
    "    px4_request_message_interval(mavutil.mavlink.MAVLINK_MSG_ID_SERVO_OUTPUT_RAW, frequency_message) #36\n",
    "    px4_request_message_interval(mavutil.mavlink.MAVLINK_MSG_ID_VFR_HUD, frequency_message) #74\n",
    "    px4_request_message_interval(mavutil.mavlink.MAVLINK_MSG_ID_ATTITUDE_TARGET, frequency_message) #83\n",
    "    px4_request_message_interval(mavutil.mavlink.MAVLINK_MSG_ID_POSITION_TARGET_LOCAL_NED, frequency_message) #85\n",
    "    px4_request_message_interval(mavutil.mavlink.MAVLINK_MSG_ID_POSITION_TARGET_GLOBAL_INT, frequency_message) #87\n",
    "    px4_request_message_interval(mavutil.mavlink.MAVLINK_MSG_ID_ALTITUDE, frequency_message) #141\n",
    "    px4_request_message_interval(mavutil.mavlink.MAVLINK_MSG_ID_BATTERY_STATUS, frequency_message) #147\n",
    "    px4_request_message_interval(mavutil.mavlink.MAVLINK_MSG_ID_ESTIMATOR_STATUS, frequency_message) #230\n",
    "    px4_request_message_interval(mavutil.mavlink.MAVLINK_MSG_ID_VIBRATION, frequency_message) #241\n",
    "    px4_request_message_interval(mavutil.mavlink.MAVLINK_MSG_ID_UTM_GLOBAL_POSITION, frequency_message) #340\n",
    "    px4_request_message_interval(mavutil.mavlink.MAVLINK_MSG_ID_OPEN_DRONE_ID_LOCATION, frequency_message) #12901 "
   ]
  },
  {
   "cell_type": "code",
   "execution_count": 4,
   "id": "00f4dd22",
   "metadata": {},
   "outputs": [],
   "source": [
    "def px4_reset_pid_controller():\n",
    "    #####################\n",
    "    # drone controller parameters\n",
    "    ## Rate Controller\n",
    "    MC_ROLLRATE_K = 1.0 #0.3 - 3\n",
    "    MC_ROLLRATE_D = 0.003 #0.0004 - 0.01\n",
    "    MC_ROLLRATE_I = 0.2 #0.1 - 0.5\n",
    "    MC_PITCHRATE_K = 1.0 #0.3 - 3\n",
    "    MC_PITCHRATE_D = 0.003 #0.0004 - 0.01\n",
    "    MC_PITCHRATE_I = 0.2 #0.1 - 0.5\n",
    "    MC_YAWRATE_K = 1.0 #0.3 - 3\n",
    "    MC_YAWRATE_I = 0.1 #0.04 - 0.4\n",
    "    ## Attitude Controller\n",
    "    MC_ROLL_P = 6.5 #1-14\n",
    "    MC_PITCH_P = 6.5 #1-14\n",
    "    MC_YAW_P = 2.8 #1-5\n",
    "    ## Velocity Controller\n",
    "    MPC_XY_VEL_P_ACC = 1.8 #1.2-5\n",
    "    MPC_XY_VEL_I_ACC = 0.2 #0.2-10\n",
    "    MPC_XY_VEL_D_ACC = 0.2 #0.1-2\n",
    "    MPC_Z_VEL_P_ACC = 4.0 #2-15\n",
    "    MPC_Z_VEL_I_ACC = 2.0 #0.2-3\n",
    "    MPC_Z_VEL_D_ACC = 0.0 #0-2\n",
    "    ## Position Controller\n",
    "    MPC_XY_P = 0.95 #0-2\n",
    "    MPC_Z_P = 1.0 #0-2\n",
    "    #####################\n",
    "    ## Rate Controller\n",
    "    #PITCH\n",
    "    master.mav.param_set_send(master.target_system, master.target_component, b'MC_PITCHRATE_K', MC_PITCHRATE_K, mavutil.mavlink.MAV_PARAM_TYPE_REAL32)\n",
    "    master.mav.param_set_send(master.target_system, master.target_component, b'MC_PITCHRATE_D', MC_PITCHRATE_D, mavutil.mavlink.MAV_PARAM_TYPE_REAL32)\n",
    "    master.mav.param_set_send(master.target_system, master.target_component, b'MC_PITCHRATE_I', MC_PITCHRATE_I, mavutil.mavlink.MAV_PARAM_TYPE_REAL32)\n",
    "    #ROLL\n",
    "    master.mav.param_set_send(master.target_system, master.target_component, b'MC_ROLLRATE_K', MC_ROLLRATE_K, mavutil.mavlink.MAV_PARAM_TYPE_REAL32)\n",
    "    master.mav.param_set_send(master.target_system, master.target_component, b'MC_ROLLRATE_D', MC_ROLLRATE_D, mavutil.mavlink.MAV_PARAM_TYPE_REAL32)\n",
    "    master.mav.param_set_send(master.target_system, master.target_component, b'MC_ROLLRATE_I', MC_ROLLRATE_I, mavutil.mavlink.MAV_PARAM_TYPE_REAL32)\n",
    "    #YAW\n",
    "    master.mav.param_set_send(master.target_system, master.target_component, b'MC_YAWRATE_K', MC_YAWRATE_K, mavutil.mavlink.MAV_PARAM_TYPE_REAL32)\n",
    "    master.mav.param_set_send(master.target_system, master.target_component, b'MC_YAWRATE_I', MC_YAWRATE_I, mavutil.mavlink.MAV_PARAM_TYPE_REAL32)\n",
    "    ## Attitude Controller\n",
    "    master.mav.param_set_send(master.target_system, master.target_component, b'MC_ROLL_P', MC_ROLL_P, mavutil.mavlink.MAV_PARAM_TYPE_REAL32)\n",
    "    master.mav.param_set_send(master.target_system, master.target_component, b'MC_PITCH_P', MC_PITCH_P, mavutil.mavlink.MAV_PARAM_TYPE_REAL32)\n",
    "    master.mav.param_set_send(master.target_system, master.target_component, b'MC_YAW_P', MC_YAW_P, mavutil.mavlink.MAV_PARAM_TYPE_REAL32)\n",
    "    ## Velocity Controller\n",
    "    #XY\n",
    "    master.mav.param_set_send(master.target_system, master.target_component, b'MPC_XY_VEL_P_ACC', MPC_XY_VEL_P_ACC, mavutil.mavlink.MAV_PARAM_TYPE_REAL32)\n",
    "    master.mav.param_set_send(master.target_system, master.target_component, b'MPC_XY_VEL_I_ACC', MPC_XY_VEL_I_ACC, mavutil.mavlink.MAV_PARAM_TYPE_REAL32)\n",
    "    master.mav.param_set_send(master.target_system, master.target_component, b'MPC_XY_VEL_D_ACC', MPC_XY_VEL_D_ACC, mavutil.mavlink.MAV_PARAM_TYPE_REAL32)\n",
    "    #Z\n",
    "    master.mav.param_set_send(master.target_system, master.target_component, b'MPC_Z_VEL_P_ACC', MPC_Z_VEL_P_ACC, mavutil.mavlink.MAV_PARAM_TYPE_REAL32)\n",
    "    master.mav.param_set_send(master.target_system, master.target_component, b'MPC_Z_VEL_I_ACC', MPC_Z_VEL_I_ACC, mavutil.mavlink.MAV_PARAM_TYPE_REAL32)\n",
    "    master.mav.param_set_send(master.target_system, master.target_component, b'MPC_Z_VEL_D_ACC', MPC_Z_VEL_D_ACC, mavutil.mavlink.MAV_PARAM_TYPE_REAL32)\n",
    "    ## Position Controller\n",
    "    master.mav.param_set_send(master.target_system, master.target_component, b'MPC_XY_P', MPC_XY_P, mavutil.mavlink.MAV_PARAM_TYPE_REAL32)\n",
    "    master.mav.param_set_send(master.target_system, master.target_component, b'MPC_Z_P', MPC_Z_P, mavutil.mavlink.MAV_PARAM_TYPE_REAL32)\n",
    "\n",
    "def px4_update_pid_controller_rate_att(action):\n",
    "    ## Rate Controller\n",
    "    MC_PITCHRATE_K=action[0]\n",
    "    MC_PITCHRATE_D=action[1]\n",
    "    MC_PITCHRATE_I=action[2]\n",
    "    MC_ROLLRATE_K=action[3]\n",
    "    MC_ROLLRATE_D=action[4]\n",
    "    MC_ROLLRATE_I=action[5]\n",
    "    MC_YAWRATE_K=action[6]\n",
    "    MC_YAWRATE_I=action[7]\n",
    "    #PITCH\n",
    "    master.mav.param_set_send(master.target_system, master.target_component, b'MC_PITCHRATE_K', MC_PITCHRATE_K, mavutil.mavlink.MAV_PARAM_TYPE_REAL32)\n",
    "    master.mav.param_set_send(master.target_system, master.target_component, b'MC_PITCHRATE_D', MC_PITCHRATE_D, mavutil.mavlink.MAV_PARAM_TYPE_REAL32)\n",
    "    master.mav.param_set_send(master.target_system, master.target_component, b'MC_PITCHRATE_I', MC_PITCHRATE_I, mavutil.mavlink.MAV_PARAM_TYPE_REAL32)\n",
    "    #ROLL\n",
    "    master.mav.param_set_send(master.target_system, master.target_component, b'MC_ROLLRATE_K', MC_ROLLRATE_K, mavutil.mavlink.MAV_PARAM_TYPE_REAL32)\n",
    "    master.mav.param_set_send(master.target_system, master.target_component, b'MC_ROLLRATE_D', MC_ROLLRATE_D, mavutil.mavlink.MAV_PARAM_TYPE_REAL32)\n",
    "    master.mav.param_set_send(master.target_system, master.target_component, b'MC_ROLLRATE_I', MC_ROLLRATE_I, mavutil.mavlink.MAV_PARAM_TYPE_REAL32)\n",
    "    #YAW\n",
    "    master.mav.param_set_send(master.target_system, master.target_component, b'MC_YAWRATE_K', MC_YAWRATE_K, mavutil.mavlink.MAV_PARAM_TYPE_REAL32)\n",
    "    master.mav.param_set_send(master.target_system, master.target_component, b'MC_YAWRATE_I', MC_YAWRATE_I, mavutil.mavlink.MAV_PARAM_TYPE_REAL32)\n",
    "\n",
    "def px4_update_pid_controller_velocity_pos(action):\n",
    "    ## Velocity Controller\n",
    "    MPC_XY_VEL_P_ACC = action[0] #1.8 #1.2-5\n",
    "    MPC_XY_VEL_I_ACC = action[1] #0.2 #0.2-10\n",
    "    MPC_XY_VEL_D_ACC = action[2] #0.2 #0.1-2\n",
    "    MPC_Z_VEL_P_ACC = action[3] #4.0 #2-15\n",
    "    MPC_Z_VEL_I_ACC = action[4] #2.0 #0.2-3\n",
    "    MPC_Z_VEL_D_ACC = action[5] #0.0 #0-2\n",
    "    ## Position Controller\n",
    "    MPC_XY_P = action[6] #0.95 #0-2\n",
    "    MPC_Z_P = action[7] #1.0 #0-2\n",
    "    ## Velocity Controller\n",
    "    #XY\n",
    "    master.mav.param_set_send(master.target_system, master.target_component, b'MPC_XY_VEL_P_ACC', MPC_XY_VEL_P_ACC, mavutil.mavlink.MAV_PARAM_TYPE_REAL32)\n",
    "    master.mav.param_set_send(master.target_system, master.target_component, b'MPC_XY_VEL_I_ACC', MPC_XY_VEL_I_ACC, mavutil.mavlink.MAV_PARAM_TYPE_REAL32)\n",
    "    master.mav.param_set_send(master.target_system, master.target_component, b'MPC_XY_VEL_D_ACC', MPC_XY_VEL_D_ACC, mavutil.mavlink.MAV_PARAM_TYPE_REAL32)\n",
    "    #Z\n",
    "    master.mav.param_set_send(master.target_system, master.target_component, b'MPC_Z_VEL_P_ACC', MPC_Z_VEL_P_ACC, mavutil.mavlink.MAV_PARAM_TYPE_REAL32)\n",
    "    master.mav.param_set_send(master.target_system, master.target_component, b'MPC_Z_VEL_I_ACC', MPC_Z_VEL_I_ACC, mavutil.mavlink.MAV_PARAM_TYPE_REAL32)\n",
    "    master.mav.param_set_send(master.target_system, master.target_component, b'MPC_Z_VEL_D_ACC', MPC_Z_VEL_D_ACC, mavutil.mavlink.MAV_PARAM_TYPE_REAL32)\n",
    "    ## Position Controller\n",
    "    master.mav.param_set_send(master.target_system, master.target_component, b'MPC_XY_P', MPC_XY_P, mavutil.mavlink.MAV_PARAM_TYPE_REAL32)\n",
    "    master.mav.param_set_send(master.target_system, master.target_component, b'MPC_Z_P', MPC_Z_P, mavutil.mavlink.MAV_PARAM_TYPE_REAL32)\n",
    "\n",
    "def px4_update_pid_controller_all(action):\n",
    "    ## Rate Controller\n",
    "    MC_PITCHRATE_K=action[0]\n",
    "    MC_PITCHRATE_D=action[1]\n",
    "    MC_PITCHRATE_I=action[2]\n",
    "    MC_ROLLRATE_K=action[3]\n",
    "    MC_ROLLRATE_D=action[4]\n",
    "    MC_ROLLRATE_I=action[5]\n",
    "    MC_YAWRATE_K=action[6]\n",
    "    MC_YAWRATE_I=action[7]\n",
    "    ## Attitude Controller\n",
    "    MC_ROLL_P = action[8] #6.5 #1-14\n",
    "    MC_PITCH_P = action[9] #6.5 #1-14\n",
    "    MC_YAW_P = action[10] #2.8 #1-5    ## Velocity Controller\n",
    "    MPC_XY_VEL_P_ACC = action[11] #1.8 #1.2-5\n",
    "    MPC_XY_VEL_I_ACC = action[12] #0.2 #0.2-10\n",
    "    MPC_XY_VEL_D_ACC = action[13] #0.2 #0.1-2\n",
    "    MPC_Z_VEL_P_ACC = action[14] #4.0 #2-15\n",
    "    MPC_Z_VEL_I_ACC = action[15] #2.0 #0.2-3\n",
    "    MPC_Z_VEL_D_ACC = action[16] #0.0 #0-2\n",
    "    ## Position Controller\n",
    "    MPC_XY_P = action[17] #0.95 #0-2\n",
    "    MPC_Z_P = action[18] #1.0 #0-2\n",
    "    #PITCH\n",
    "    master.mav.param_set_send(master.target_system, master.target_component, b'MC_PITCHRATE_K', MC_PITCHRATE_K, mavutil.mavlink.MAV_PARAM_TYPE_REAL32)\n",
    "    master.mav.param_set_send(master.target_system, master.target_component, b'MC_PITCHRATE_D', MC_PITCHRATE_D, mavutil.mavlink.MAV_PARAM_TYPE_REAL32)\n",
    "    master.mav.param_set_send(master.target_system, master.target_component, b'MC_PITCHRATE_I', MC_PITCHRATE_I, mavutil.mavlink.MAV_PARAM_TYPE_REAL32)\n",
    "    #ROLL\n",
    "    master.mav.param_set_send(master.target_system, master.target_component, b'MC_ROLLRATE_K', MC_ROLLRATE_K, mavutil.mavlink.MAV_PARAM_TYPE_REAL32)\n",
    "    master.mav.param_set_send(master.target_system, master.target_component, b'MC_ROLLRATE_D', MC_ROLLRATE_D, mavutil.mavlink.MAV_PARAM_TYPE_REAL32)\n",
    "    master.mav.param_set_send(master.target_system, master.target_component, b'MC_ROLLRATE_I', MC_ROLLRATE_I, mavutil.mavlink.MAV_PARAM_TYPE_REAL32)\n",
    "    #YAW\n",
    "    master.mav.param_set_send(master.target_system, master.target_component, b'MC_YAWRATE_K', MC_YAWRATE_K, mavutil.mavlink.MAV_PARAM_TYPE_REAL32)\n",
    "    master.mav.param_set_send(master.target_system, master.target_component, b'MC_YAWRATE_I', MC_YAWRATE_I, mavutil.mavlink.MAV_PARAM_TYPE_REAL32)\n",
    "    ## Attitude Controller\n",
    "    master.mav.param_set_send(master.target_system, master.target_component, b'MC_ROLL_P', MC_ROLL_P, mavutil.mavlink.MAV_PARAM_TYPE_REAL32)\n",
    "    master.mav.param_set_send(master.target_system, master.target_component, b'MC_PITCH_P', MC_PITCH_P, mavutil.mavlink.MAV_PARAM_TYPE_REAL32)\n",
    "    master.mav.param_set_send(master.target_system, master.target_component, b'MC_YAW_P', MC_YAW_P, mavutil.mavlink.MAV_PARAM_TYPE_REAL32)\n",
    "    ## Velocity Controller\n",
    "    #XY\n",
    "    master.mav.param_set_send(master.target_system, master.target_component, b'MPC_XY_VEL_P_ACC', MPC_XY_VEL_P_ACC, mavutil.mavlink.MAV_PARAM_TYPE_REAL32)\n",
    "    master.mav.param_set_send(master.target_system, master.target_component, b'MPC_XY_VEL_I_ACC', MPC_XY_VEL_I_ACC, mavutil.mavlink.MAV_PARAM_TYPE_REAL32)\n",
    "    master.mav.param_set_send(master.target_system, master.target_component, b'MPC_XY_VEL_D_ACC', MPC_XY_VEL_D_ACC, mavutil.mavlink.MAV_PARAM_TYPE_REAL32)\n",
    "    #Z\n",
    "    master.mav.param_set_send(master.target_system, master.target_component, b'MPC_Z_VEL_P_ACC', MPC_Z_VEL_P_ACC, mavutil.mavlink.MAV_PARAM_TYPE_REAL32)\n",
    "    master.mav.param_set_send(master.target_system, master.target_component, b'MPC_Z_VEL_I_ACC', MPC_Z_VEL_I_ACC, mavutil.mavlink.MAV_PARAM_TYPE_REAL32)\n",
    "    master.mav.param_set_send(master.target_system, master.target_component, b'MPC_Z_VEL_D_ACC', MPC_Z_VEL_D_ACC, mavutil.mavlink.MAV_PARAM_TYPE_REAL32)\n",
    "    ## Position Controller\n",
    "    master.mav.param_set_send(master.target_system, master.target_component, b'MPC_XY_P', MPC_XY_P, mavutil.mavlink.MAV_PARAM_TYPE_REAL32)\n",
    "    master.mav.param_set_send(master.target_system, master.target_component, b'MPC_Z_P', MPC_Z_P, mavutil.mavlink.MAV_PARAM_TYPE_REAL32)"
   ]
  },
  {
   "cell_type": "code",
   "execution_count": 5,
   "id": "cda6a75e",
   "metadata": {},
   "outputs": [],
   "source": [
    "def px4_get_telemetry_data():\n",
    "    ack_msg = master.recv_match(type='COMMAND_ACK')\n",
    "    observation=[]\n",
    "    t_param='SCALED_IMU' #26\n",
    "    try: \n",
    "        SCALED_IMU_xacc = master.messages[t_param].xacc\n",
    "        SCALED_IMU_yacc = master.messages[t_param].yacc\n",
    "        SCALED_IMU_zacc = master.messages[t_param].zacc\n",
    "        SCALED_IMU_xgyro = master.messages[t_param].xgyro\n",
    "        SCALED_IMU_ygyro = master.messages[t_param].ygyro\n",
    "        SCALED_IMU_zgyro = master.messages[t_param].zgyro\n",
    "        SCALED_IMU_data=[SCALED_IMU_xacc/16384,SCALED_IMU_yacc/16384,SCALED_IMU_zacc/16384,SCALED_IMU_xgyro/16384,SCALED_IMU_ygyro/16384,SCALED_IMU_zgyro/16384]\n",
    "        observation.extend(SCALED_IMU_data) #count=6\n",
    "    except:\n",
    "        print(t_param, \":\", 'No message received')\n",
    "\n",
    "    t_param='ATTITUDE' #30\n",
    "    try: \n",
    "        ATTITUDE_roll = master.messages[t_param].roll\n",
    "        ATTITUDE_pitch = master.messages[t_param].pitch\n",
    "        ATTITUDE_yaw = master.messages[t_param].yaw\n",
    "        ATTITUDE_rollspeed = master.messages[t_param].rollspeed\n",
    "        ATTITUDE_pitchspeed = master.messages[t_param].pitchspeed\n",
    "        ATTITUDE_yawspeed = master.messages[t_param].yawspeed\n",
    "        ATTITUDE_data=[ATTITUDE_roll/2,ATTITUDE_pitch/2,ATTITUDE_yaw/2,ATTITUDE_rollspeed/5,ATTITUDE_pitchspeed/5,ATTITUDE_yawspeed/5]\n",
    "        observation.extend(ATTITUDE_data) #count=6+6=12\n",
    "    except:\n",
    "        print(t_param, \":\", 'No message received') #6\n",
    "\n",
    "    t_param='ATTITUDE_QUATERNION' #31\n",
    "    try: \n",
    "        ATTITUDE_QUATERNION_q1 = master.messages[t_param].q1\n",
    "        ATTITUDE_QUATERNION_q2 = master.messages[t_param].q2\n",
    "        ATTITUDE_QUATERNION_q3 = master.messages[t_param].q3\n",
    "        ATTITUDE_QUATERNION_q4 = master.messages[t_param].q4\n",
    "        ATTITUDE_QUATERNION_rollspeed = master.messages[t_param].rollspeed\n",
    "        ATTITUDE_QUATERNION_pitchspeed = master.messages[t_param].pitchspeed\n",
    "        ATTITUDE_QUATERNION_yawspeed = master.messages[t_param].yawspeed\n",
    "        ATTITUDE_QUATERNION_data=[ATTITUDE_QUATERNION_q1,ATTITUDE_QUATERNION_q2,ATTITUDE_QUATERNION_q3,ATTITUDE_QUATERNION_q4,ATTITUDE_QUATERNION_rollspeed/5,ATTITUDE_QUATERNION_pitchspeed/5,ATTITUDE_QUATERNION_yawspeed/5]\n",
    "        observation.extend(ATTITUDE_QUATERNION_data) #count=12+7=19\n",
    "    except:\n",
    "        print(t_param, \":\", 'No message received')\n",
    "\n",
    "    t_param='LOCAL_POSITION_NED' #32\n",
    "    try: \n",
    "        LOCAL_POSITION_NED_x = master.messages[t_param].x\n",
    "        LOCAL_POSITION_NED_y = master.messages[t_param].y\n",
    "        LOCAL_POSITION_NED_z = master.messages[t_param].z\n",
    "        LOCAL_POSITION_NED_vx = master.messages[t_param].vx\n",
    "        LOCAL_POSITION_NED_vy = master.messages[t_param].vy\n",
    "        LOCAL_POSITION_NED_vz = master.messages[t_param].vz\n",
    "        LOCAL_POSITION_NED_data=[LOCAL_POSITION_NED_x/10,LOCAL_POSITION_NED_y/10,(LOCAL_POSITION_NED_z+target_elevation)/10,LOCAL_POSITION_NED_vx/10,LOCAL_POSITION_NED_vy/10,LOCAL_POSITION_NED_vz/10]\n",
    "        observation.extend(LOCAL_POSITION_NED_data) #count=19+6=25\n",
    "    except:\n",
    "        print(t_param, \":\", 'No message received')\n",
    "\n",
    "    t_param='SERVO_OUTPUT_RAW' #36\n",
    "    try: \n",
    "        SERVO_OUTPUT_RAW_servo1_raw = master.messages[t_param].servo1_raw - 1500\n",
    "        SERVO_OUTPUT_RAW_servo2_raw = master.messages[t_param].servo2_raw - 1500\n",
    "        SERVO_OUTPUT_RAW_servo3_raw = master.messages[t_param].servo3_raw - 1500\n",
    "        SERVO_OUTPUT_RAW_servo4_raw = master.messages[t_param].servo4_raw - 1500\n",
    "        SERVO_OUTPUT_RAW_data=[SERVO_OUTPUT_RAW_servo1_raw/500,SERVO_OUTPUT_RAW_servo2_raw/500,SERVO_OUTPUT_RAW_servo3_raw/500,SERVO_OUTPUT_RAW_servo4_raw/500]\n",
    "        observation.extend(SERVO_OUTPUT_RAW_data) #count=25+4=29\n",
    "    except:\n",
    "        print(t_param, \":\", 'No message received')\n",
    "\n",
    "    t_param='VFR_HUD' #74\n",
    "    try: \n",
    "        #VFR_HUD_airspeed = master.messages[t_param].airspeed\n",
    "        VFR_HUD_groundspeed = master.messages[t_param].groundspeed\n",
    "        VFR_HUD_heading = master.messages[t_param].heading\n",
    "        VFR_HUD_throttle = master.messages[t_param].throttle\n",
    "        #VFR_HUD_alt = master.messages[t_param].alt\n",
    "        VFR_HUD_climb = master.messages[t_param].climb\n",
    "        VFR_HUD_data=[VFR_HUD_groundspeed/10,VFR_HUD_heading/360,VFR_HUD_throttle/100,VFR_HUD_climb/10]\n",
    "        observation.extend(VFR_HUD_data) #count=29+4=33\n",
    "    except:\n",
    "        print(t_param, \":\", 'No message received')\n",
    "        \n",
    "    t_param='ATTITUDE_TARGET' #83\n",
    "    try: \n",
    "        ATTITUDE_TARGET_q = master.messages[t_param].q\n",
    "        ATTITUDE_TARGET_body_roll_rate = master.messages[t_param].body_roll_rate\n",
    "        ATTITUDE_TARGET_body_pitch_rate = master.messages[t_param].body_pitch_rate\n",
    "        ATTITUDE_TARGET_body_yaw_rate = master.messages[t_param].body_yaw_rate\n",
    "        ATTITUDE_TARGET_thrust = master.messages[t_param].thrust\n",
    "        ATTITUDE_TARGET_data=[ATTITUDE_TARGET_q[0],ATTITUDE_TARGET_q[1],ATTITUDE_TARGET_q[2],ATTITUDE_TARGET_q[3],ATTITUDE_TARGET_body_roll_rate/4,ATTITUDE_TARGET_body_pitch_rate/4,ATTITUDE_TARGET_body_yaw_rate/4,ATTITUDE_TARGET_thrust]\n",
    "        observation.extend(ATTITUDE_TARGET_data) #count=33+8=41\n",
    "    except:\n",
    "        print(t_param, \":\", 'No message received')\n",
    "\n",
    "    t_param='ESTIMATOR_STATUS' #230\n",
    "    try: \n",
    "        ESTIMATOR_STATUS_vel_ratio = master.messages[t_param].vel_ratio\n",
    "        ESTIMATOR_STATUS_pos_horiz_ratio = master.messages[t_param].pos_horiz_ratio\n",
    "        ESTIMATOR_STATUS_pos_vert_ratio = master.messages[t_param].pos_vert_ratio\n",
    "        ESTIMATOR_STATUS_mag_ratio = master.messages[t_param].mag_ratio\n",
    "        ESTIMATOR_STATUS_data=[ESTIMATOR_STATUS_vel_ratio/5,ESTIMATOR_STATUS_pos_horiz_ratio,ESTIMATOR_STATUS_pos_vert_ratio,ESTIMATOR_STATUS_mag_ratio]\n",
    "        observation.extend(ESTIMATOR_STATUS_data) #count=41+4=45\n",
    "    except:\n",
    "        print(t_param, \":\", 'No message received')\n",
    "\n",
    "    t_param='UTM_GLOBAL_POSITION' #340\n",
    "    try: \n",
    "        UTM_GLOBAL_POSITION_vx = master.messages[t_param].vx\n",
    "        UTM_GLOBAL_POSITION_vy = master.messages[t_param].vy\n",
    "        UTM_GLOBAL_POSITION_vz = master.messages[t_param].vz\n",
    "        UTM_GLOBAL_POSITION_data=[UTM_GLOBAL_POSITION_vx/1000, UTM_GLOBAL_POSITION_vy/1000, UTM_GLOBAL_POSITION_vz/1000]\n",
    "        observation.extend(UTM_GLOBAL_POSITION_data) #count=45+3=48\n",
    "    except:\n",
    "        print(t_param, \":\", 'No message received')\n",
    "\n",
    "    t_param='OPEN_DRONE_ID_LOCATION' #12901\n",
    "    try: \n",
    "        OPEN_DRONE_ID_LOCATION_speed_horizontal = master.messages[t_param].speed_horizontal\n",
    "        OPEN_DRONE_ID_LOCATION_speed_vertical = master.messages[t_param].speed_vertical\n",
    "        OPEN_DRONE_ID_LOCATION_data=[OPEN_DRONE_ID_LOCATION_speed_horizontal/1000, OPEN_DRONE_ID_LOCATION_speed_vertical/1000]\n",
    "        observation.extend(OPEN_DRONE_ID_LOCATION_data) #count=48+2=50\n",
    "    except:\n",
    "        print(t_param, \":\", 'No message received')\n",
    "\n",
    "    return observation\n",
    "\n",
    "def px4_get_position_data():\n",
    "    ack_msg = master.recv_match(type='COMMAND_ACK')\n",
    "    t_param='LOCAL_POSITION_NED' #32\n",
    "    try: \n",
    "        LOCAL_POSITION_NED_x = master.messages[t_param].x\n",
    "        LOCAL_POSITION_NED_y = master.messages[t_param].y\n",
    "        LOCAL_POSITION_NED_z = master.messages[t_param].z\n",
    "        return [LOCAL_POSITION_NED_x, LOCAL_POSITION_NED_y, LOCAL_POSITION_NED_z]\n",
    "    except:\n",
    "        print(t_param, \":\", 'No message received')\n",
    "        return [0,0,0]"
   ]
  },
  {
   "cell_type": "code",
   "execution_count": 60,
   "id": "73afd394",
   "metadata": {},
   "outputs": [],
   "source": [
    "class PX4_RL_PID(py_environment.PyEnvironment):\n",
    "    def __init__(self, noSample, delay_period, action_period):\n",
    "        self.sample_size = noSample\n",
    "        self.delay_period = delay_period\n",
    "        self.action_period = action_period\n",
    "        self.noObs = 50\n",
    "        self.sample_stamp = 0\n",
    "        self.track_distance = 0\n",
    "        self.max_distance = 0\n",
    "        self.action_history = []\n",
    "        self.observation_history = []\n",
    "        self.reward_accumulate = 0\n",
    "        tActionMin=[0.3, 0.0004, 0.1, 0.3, 0.0004, 0.1, 0.3, 0.04,  1.0,  1.0, 1.0, 1.2,  0.2, 0.1,  2.0, 0.2, 0.0, 0.0, 0.0]\n",
    "        tActionMax=[3.0,   0.01, 0.5, 3.0,   0.01, 0.5, 3.0,  0.4, 14.0, 14.0, 5.0, 5.0, 10.0, 2.0, 15.0, 3.0, 2.0, 2.0, 2.0]\n",
    "        tObsMin=[-1.0] * self.noObs\n",
    "        tObsMax=[ 1.0] * self.noObs\n",
    "        self._action_spec = array_spec.BoundedArraySpec(\n",
    "            shape=(19,), dtype=np.float32, minimum=tActionMin, maximum=tActionMax, name='action')\n",
    "        self._observation_spec = array_spec.BoundedArraySpec(\n",
    "            shape=(self.noObs,), dtype=np.float32, minimum=tObsMin, maximum=tObsMax, name='observation')\n",
    "        self._state = 0\n",
    "        self._episode_ended = False\n",
    "\n",
    "    def action_spec(self):\n",
    "        return self._action_spec\n",
    "\n",
    "    def observation_spec(self):\n",
    "        return self._observation_spec\n",
    "\n",
    "    def _reset(self):\n",
    "        self._state = 0\n",
    "        self._episode_ended = False\n",
    "        self.sample_stamp = 0\n",
    "        self.track_distance = 0\n",
    "        self.max_distance = 0\n",
    "        self.action_history = []\n",
    "        self.observation_history = []\n",
    "        self.reward_accumulate = 0\n",
    "        return ts.restart(np.array([0.0] * self.noObs, dtype=np.float32))\n",
    "\n",
    "    def _step(self, action):\n",
    "        #sample_period=0.1\n",
    "        self.action_history.append(action)\n",
    "\n",
    "        px4_update_pid_controller_all(action)\n",
    "        #px4_reset_pid_controller()\n",
    "        #print(\"Action:\", action)\n",
    "        if self.sample_stamp == 0:\n",
    "            self.sample_stamp = time.time()\n",
    "\n",
    "        #wait for sample period\n",
    "        while time.time() - self.sample_stamp < self.action_period:\n",
    "            time.sleep(self.delay_period)\n",
    "        self.sample_stamp = time.time()\n",
    "    \n",
    "        px4_set_target_depth_local(-target_elevation)\n",
    "        observation = px4_get_telemetry_data()\n",
    "        self.observation_history.append(observation)\n",
    "\n",
    "        position = px4_get_position_data()\n",
    "        #print(\"Position:\", self._state, position)\n",
    "        distance = distance_target([position[0], position[1], position[2]])\n",
    "        self.track_distance  += distance\n",
    "        if self.max_distance < distance:\n",
    "            self.max_distance = distance\n",
    "\n",
    "        if self._episode_ended:\n",
    "            return self.reset()\n",
    "\n",
    "        self._state += 1\n",
    "        if self._state > self.sample_size:\n",
    "            self._episode_ended = True\n",
    "\n",
    "        current_reward = 1/((1+distance)*(1+self.track_distance/self._state)*(1+self.max_distance))\n",
    "        self.reward_accumulate += current_reward\n",
    "\n",
    "        if self._episode_ended == True:\n",
    "            #reward = current_reward\n",
    "            print(\"Distance: %.3f / Max distance: %.3f / Reward: %.3f, \" % (self.track_distance/self.sample_size, self.max_distance, self.reward_accumulate))\n",
    "            f=open(\"px4_rl_output\"+str(self.sample_size)+\".txt\", 'a')\n",
    "            f.write(\"%.3f\\t%.3f\\t%.3f\\n\" % (self.track_distance/self.sample_size, self.max_distance, self.reward_accumulate))\n",
    "            f.close()\n",
    "            f=open(\"px4_rl_action\"+str(self.sample_size)+\".txt\", 'w')\n",
    "            for items in self.action_history:\n",
    "                for item in items:\n",
    "                    f.write(\"%.3f\\t\" % item)\n",
    "                f.write(\"\\n\")\n",
    "            f.close()            \n",
    "            f=open(\"px4_rl_observation\"+str(self.sample_size)+\".txt\", 'w')\n",
    "            for items in self.observation_history:\n",
    "                for item in items:\n",
    "                    f.write(\"%.3f\\t\" % item)\n",
    "                f.write(\"\\n\")\n",
    "            f.close()            \n",
    "            return ts.termination(np.array(observation, dtype=np.float32), current_reward)\n",
    "        else:\n",
    "            return ts.transition(\n",
    "                np.array(observation, dtype=np.float32), reward=current_reward, discount=1.0)\n"
   ]
  },
  {
   "cell_type": "code",
   "execution_count": 61,
   "id": "47701546",
   "metadata": {},
   "outputs": [],
   "source": [
    "def compute_avg_return(environment, policy, num_episodes=10):\n",
    "    total_return = 0.0\n",
    "    for _ in range(num_episodes):\n",
    "\n",
    "        time_step = environment.reset()\n",
    "        episode_return = 0.0\n",
    "\n",
    "        while not time_step.is_last():\n",
    "            action_step = policy.action(time_step)\n",
    "            time_step = environment.step(action_step.action)\n",
    "            episode_return += time_step.reward\n",
    "        total_return += episode_return\n",
    "\n",
    "    avg_return = total_return / num_episodes\n",
    "    return avg_return.numpy()[0]\n",
    "\n",
    "def collect_episode(environment, policy, num_episodes):\n",
    "\n",
    "    driver = py_driver.PyDriver(\n",
    "        environment,\n",
    "        py_tf_eager_policy.PyTFEagerPolicy(\n",
    "        policy, use_tf_function=True),\n",
    "        [rb_observer],\n",
    "        max_episodes=num_episodes)\n",
    "    initial_time_step = environment.reset()\n",
    "    driver.run(initial_time_step)"
   ]
  },
  {
   "cell_type": "code",
   "execution_count": 56,
   "id": "b6f71521",
   "metadata": {},
   "outputs": [
    {
     "name": "stdout",
     "output_type": "stream",
     "text": [
      "-----Setup PX4----------\n",
      "Heartbeat: (system 1 component 0)\n",
      "State: arm\n",
      "State: set_mode\n",
      "State: mode_wait\n",
      "Mode: flight_mode\n",
      "Mode: steady_state\n"
     ]
    }
   ],
   "source": [
    "print(\"-----Setup PX4----------\")\n",
    "########################################\n",
    "master = mavutil.mavlink_connection('udpin:localhost:14540')\n",
    "boot_time = time.time()\n",
    "master.wait_heartbeat()\n",
    "print(\"Heartbeat: (system %u component %u)\" % (master.target_system, master.target_component))\n",
    "########################################\n",
    "px4_reset_pid_controller()\n",
    "px4_arm()\n",
    "px4_request_message()\n",
    "px4_steady_state()"
   ]
  },
  {
   "cell_type": "code",
   "execution_count": 62,
   "id": "f0e99f80",
   "metadata": {},
   "outputs": [
    {
     "name": "stdout",
     "output_type": "stream",
     "text": [
      "-----Instantiate PID----------\n",
      "-----TF setup----------\n",
      "-----TF agent----------\n",
      "-----Reverve----------\n"
     ]
    }
   ],
   "source": [
    "#####################\n",
    "print(\"-----Instantiate PID----------\")\n",
    "learning_rate = 0.0001 # @param {type:\"number\"}\n",
    "collect_episodes_per_iteration = 3 # @param {type:\"integer\"}\n",
    "replay_buffer_capacity = 5000 # @param {type:\"integer\"}\n",
    "fc_layer_params = (200,400,200,100,50)\n",
    "\n",
    "train_duration=60 #sec\n",
    "evaluation_duration=120 #sec\n",
    "train_no_sample=int(train_duration/period_action)\n",
    "eval_no_sample=int(evaluation_duration/period_action)\n",
    "train_py_env = PX4_RL_PID(train_no_sample, period_delay, period_action)\n",
    "eval_py_env = PX4_RL_PID(eval_no_sample, period_delay, period_action)\n",
    "num_iterations = 1000 # @param {type:\"integer\"}\n",
    "log_interval = 5 # @param {type:\"integer\"}\n",
    "num_eval_episodes = 31 # @param {type:\"integer\"}\n",
    "eval_interval = 50 # @param {type:\"integer\"}\n",
    "checkpoint_interval = 10\n",
    "returns = []\n",
    "\n",
    "print(\"-----TF setup----------\")\n",
    "train_env = tf_py_environment.TFPyEnvironment(train_py_env)\n",
    "eval_env = tf_py_environment.TFPyEnvironment(eval_py_env)\n",
    "actor_net = actor_distribution_network.ActorDistributionNetwork(\n",
    "    train_env.observation_spec(),\n",
    "    train_env.action_spec(),\n",
    "    fc_layer_params=fc_layer_params)\n",
    "\n",
    "optimizer = tf.keras.optimizers.Adam(learning_rate=learning_rate)\n",
    "train_step_counter = tf.compat.v1.train.get_or_create_global_step()\n",
    "\n",
    "print(\"-----TF agent----------\")\n",
    "tf_agent = reinforce_agent.ReinforceAgent(\n",
    "    train_env.time_step_spec(),\n",
    "    train_env.action_spec(),\n",
    "    actor_network=actor_net,\n",
    "    optimizer=optimizer,\n",
    "    normalize_returns=True,\n",
    "    #train_step_counter=global_step)\n",
    "    train_step_counter=train_step_counter)\n",
    "\n",
    "tf_agent.initialize()\n",
    "\n",
    "eval_policy = tf_agent.policy\n",
    "collect_policy = tf_agent.collect_policy\n",
    "\n",
    "print(\"-----Reverve----------\")\n",
    "table_name = 'uniform_table'\n",
    "replay_buffer_signature = tensor_spec.from_spec(\n",
    "    tf_agent.collect_data_spec)\n",
    "replay_buffer_signature = tensor_spec.add_outer_dim(\n",
    "    replay_buffer_signature)\n",
    "table = reverb.Table(\n",
    "    table_name,\n",
    "    max_size=replay_buffer_capacity,\n",
    "    sampler=reverb.selectors.Uniform(),\n",
    "    remover=reverb.selectors.Fifo(),\n",
    "    rate_limiter=reverb.rate_limiters.MinSize(1),\n",
    "    signature=replay_buffer_signature)\n",
    "\n",
    "reverb_server = reverb.Server([table])\n",
    "\n",
    "replay_buffer = reverb_replay_buffer.ReverbReplayBuffer(\n",
    "    tf_agent.collect_data_spec,\n",
    "    table_name=table_name,\n",
    "    sequence_length=None,\n",
    "    local_server=reverb_server)\n",
    "\n",
    "rb_observer = reverb_utils.ReverbAddEpisodeObserver(\n",
    "    replay_buffer.py_client,\n",
    "    table_name,\n",
    "    replay_buffer_capacity\n",
    ")\n",
    "\n",
    "# (Optional) Optimize by wrapping some of the code in a graph using TF function.\n",
    "tf_agent.train = common.function(tf_agent.train)\n",
    "\n",
    "# Reset the train step\n",
    "tf_agent.train_step_counter.assign(0)\n",
    "\n",
    "# Checkpoint saver\n",
    "tempdir='.'\n",
    "checkpoint_dir = os.path.join(tempdir, 'checkpoint')\n",
    "train_checkpointer = common.Checkpointer(\n",
    "    ckpt_dir=checkpoint_dir,\n",
    "    max_to_keep=1,\n",
    "    agent=tf_agent,\n",
    "    policy=tf_agent.policy,\n",
    "    replay_buffer=replay_buffer,\n",
    "    global_step=train_step_counter\n",
    "    )\n"
   ]
  },
  {
   "cell_type": "code",
   "execution_count": 65,
   "id": "72a9459f",
   "metadata": {},
   "outputs": [
    {
     "name": "stdout",
     "output_type": "stream",
     "text": [
      "-----Evaluate----------\n",
      "Distance: 0.880 / Max distance: 22.274 / Reward: 15.433, \n",
      "WARNING:tensorflow:Detecting that an object or model or tf.train.Checkpoint is being deleted with unrestored values. See the following logs for the specific values in question. To silence these warnings, use `status.expect_partial()`. See https://www.tensorflow.org/api_docs/python/tf/train/Checkpoint#restorefor details about the status object returned by the restore function.\n"
     ]
    },
    {
     "name": "stderr",
     "output_type": "stream",
     "text": [
      "WARNING:tensorflow:Detecting that an object or model or tf.train.Checkpoint is being deleted with unrestored values. See the following logs for the specific values in question. To silence these warnings, use `status.expect_partial()`. See https://www.tensorflow.org/api_docs/python/tf/train/Checkpoint#restorefor details about the status object returned by the restore function.\n"
     ]
    },
    {
     "name": "stdout",
     "output_type": "stream",
     "text": [
      "WARNING:tensorflow:Value in checkpoint could not be found in the restored object: (root).agent._optimizer._variables.1\n"
     ]
    },
    {
     "name": "stderr",
     "output_type": "stream",
     "text": [
      "WARNING:tensorflow:Value in checkpoint could not be found in the restored object: (root).agent._optimizer._variables.1\n"
     ]
    },
    {
     "name": "stdout",
     "output_type": "stream",
     "text": [
      "WARNING:tensorflow:Value in checkpoint could not be found in the restored object: (root).agent._optimizer._variables.2\n"
     ]
    },
    {
     "name": "stderr",
     "output_type": "stream",
     "text": [
      "WARNING:tensorflow:Value in checkpoint could not be found in the restored object: (root).agent._optimizer._variables.2\n"
     ]
    },
    {
     "name": "stdout",
     "output_type": "stream",
     "text": [
      "WARNING:tensorflow:Value in checkpoint could not be found in the restored object: (root).agent._optimizer._variables.3\n"
     ]
    },
    {
     "name": "stderr",
     "output_type": "stream",
     "text": [
      "WARNING:tensorflow:Value in checkpoint could not be found in the restored object: (root).agent._optimizer._variables.3\n"
     ]
    },
    {
     "name": "stdout",
     "output_type": "stream",
     "text": [
      "WARNING:tensorflow:Value in checkpoint could not be found in the restored object: (root).agent._optimizer._variables.4\n"
     ]
    },
    {
     "name": "stderr",
     "output_type": "stream",
     "text": [
      "WARNING:tensorflow:Value in checkpoint could not be found in the restored object: (root).agent._optimizer._variables.4\n"
     ]
    },
    {
     "name": "stdout",
     "output_type": "stream",
     "text": [
      "WARNING:tensorflow:Value in checkpoint could not be found in the restored object: (root).agent._optimizer._variables.5\n"
     ]
    },
    {
     "name": "stderr",
     "output_type": "stream",
     "text": [
      "WARNING:tensorflow:Value in checkpoint could not be found in the restored object: (root).agent._optimizer._variables.5\n"
     ]
    },
    {
     "name": "stdout",
     "output_type": "stream",
     "text": [
      "WARNING:tensorflow:Value in checkpoint could not be found in the restored object: (root).agent._optimizer._variables.6\n"
     ]
    },
    {
     "name": "stderr",
     "output_type": "stream",
     "text": [
      "WARNING:tensorflow:Value in checkpoint could not be found in the restored object: (root).agent._optimizer._variables.6\n"
     ]
    },
    {
     "name": "stdout",
     "output_type": "stream",
     "text": [
      "WARNING:tensorflow:Value in checkpoint could not be found in the restored object: (root).agent._optimizer._variables.7\n"
     ]
    },
    {
     "name": "stderr",
     "output_type": "stream",
     "text": [
      "WARNING:tensorflow:Value in checkpoint could not be found in the restored object: (root).agent._optimizer._variables.7\n"
     ]
    },
    {
     "name": "stdout",
     "output_type": "stream",
     "text": [
      "WARNING:tensorflow:Value in checkpoint could not be found in the restored object: (root).agent._optimizer._variables.8\n"
     ]
    },
    {
     "name": "stderr",
     "output_type": "stream",
     "text": [
      "WARNING:tensorflow:Value in checkpoint could not be found in the restored object: (root).agent._optimizer._variables.8\n"
     ]
    },
    {
     "name": "stdout",
     "output_type": "stream",
     "text": [
      "WARNING:tensorflow:Value in checkpoint could not be found in the restored object: (root).agent._optimizer._variables.9\n"
     ]
    },
    {
     "name": "stderr",
     "output_type": "stream",
     "text": [
      "WARNING:tensorflow:Value in checkpoint could not be found in the restored object: (root).agent._optimizer._variables.9\n"
     ]
    },
    {
     "name": "stdout",
     "output_type": "stream",
     "text": [
      "WARNING:tensorflow:Value in checkpoint could not be found in the restored object: (root).agent._optimizer._variables.10\n"
     ]
    },
    {
     "name": "stderr",
     "output_type": "stream",
     "text": [
      "WARNING:tensorflow:Value in checkpoint could not be found in the restored object: (root).agent._optimizer._variables.10\n"
     ]
    },
    {
     "name": "stdout",
     "output_type": "stream",
     "text": [
      "WARNING:tensorflow:Value in checkpoint could not be found in the restored object: (root).agent._optimizer._variables.11\n"
     ]
    },
    {
     "name": "stderr",
     "output_type": "stream",
     "text": [
      "WARNING:tensorflow:Value in checkpoint could not be found in the restored object: (root).agent._optimizer._variables.11\n"
     ]
    },
    {
     "name": "stdout",
     "output_type": "stream",
     "text": [
      "WARNING:tensorflow:Value in checkpoint could not be found in the restored object: (root).agent._optimizer._variables.12\n"
     ]
    },
    {
     "name": "stderr",
     "output_type": "stream",
     "text": [
      "WARNING:tensorflow:Value in checkpoint could not be found in the restored object: (root).agent._optimizer._variables.12\n"
     ]
    },
    {
     "name": "stdout",
     "output_type": "stream",
     "text": [
      "WARNING:tensorflow:Value in checkpoint could not be found in the restored object: (root).agent._optimizer._variables.13\n"
     ]
    },
    {
     "name": "stderr",
     "output_type": "stream",
     "text": [
      "WARNING:tensorflow:Value in checkpoint could not be found in the restored object: (root).agent._optimizer._variables.13\n"
     ]
    },
    {
     "name": "stdout",
     "output_type": "stream",
     "text": [
      "WARNING:tensorflow:Value in checkpoint could not be found in the restored object: (root).agent._optimizer._variables.14\n"
     ]
    },
    {
     "name": "stderr",
     "output_type": "stream",
     "text": [
      "WARNING:tensorflow:Value in checkpoint could not be found in the restored object: (root).agent._optimizer._variables.14\n"
     ]
    },
    {
     "name": "stdout",
     "output_type": "stream",
     "text": [
      "WARNING:tensorflow:Value in checkpoint could not be found in the restored object: (root).agent._optimizer._variables.15\n"
     ]
    },
    {
     "name": "stderr",
     "output_type": "stream",
     "text": [
      "WARNING:tensorflow:Value in checkpoint could not be found in the restored object: (root).agent._optimizer._variables.15\n"
     ]
    },
    {
     "name": "stdout",
     "output_type": "stream",
     "text": [
      "WARNING:tensorflow:Value in checkpoint could not be found in the restored object: (root).agent._optimizer._variables.16\n"
     ]
    },
    {
     "name": "stderr",
     "output_type": "stream",
     "text": [
      "WARNING:tensorflow:Value in checkpoint could not be found in the restored object: (root).agent._optimizer._variables.16\n"
     ]
    },
    {
     "name": "stdout",
     "output_type": "stream",
     "text": [
      "WARNING:tensorflow:Value in checkpoint could not be found in the restored object: (root).agent._optimizer._variables.17\n"
     ]
    },
    {
     "name": "stderr",
     "output_type": "stream",
     "text": [
      "WARNING:tensorflow:Value in checkpoint could not be found in the restored object: (root).agent._optimizer._variables.17\n"
     ]
    },
    {
     "name": "stdout",
     "output_type": "stream",
     "text": [
      "WARNING:tensorflow:Value in checkpoint could not be found in the restored object: (root).agent._optimizer._variables.18\n"
     ]
    },
    {
     "name": "stderr",
     "output_type": "stream",
     "text": [
      "WARNING:tensorflow:Value in checkpoint could not be found in the restored object: (root).agent._optimizer._variables.18\n"
     ]
    },
    {
     "name": "stdout",
     "output_type": "stream",
     "text": [
      "WARNING:tensorflow:Value in checkpoint could not be found in the restored object: (root).agent._optimizer._variables.19\n"
     ]
    },
    {
     "name": "stderr",
     "output_type": "stream",
     "text": [
      "WARNING:tensorflow:Value in checkpoint could not be found in the restored object: (root).agent._optimizer._variables.19\n"
     ]
    },
    {
     "name": "stdout",
     "output_type": "stream",
     "text": [
      "WARNING:tensorflow:Value in checkpoint could not be found in the restored object: (root).agent._optimizer._variables.20\n"
     ]
    },
    {
     "name": "stderr",
     "output_type": "stream",
     "text": [
      "WARNING:tensorflow:Value in checkpoint could not be found in the restored object: (root).agent._optimizer._variables.20\n"
     ]
    },
    {
     "name": "stdout",
     "output_type": "stream",
     "text": [
      "WARNING:tensorflow:Value in checkpoint could not be found in the restored object: (root).agent._optimizer._variables.21\n"
     ]
    },
    {
     "name": "stderr",
     "output_type": "stream",
     "text": [
      "WARNING:tensorflow:Value in checkpoint could not be found in the restored object: (root).agent._optimizer._variables.21\n"
     ]
    },
    {
     "name": "stdout",
     "output_type": "stream",
     "text": [
      "WARNING:tensorflow:Value in checkpoint could not be found in the restored object: (root).agent._optimizer._variables.22\n"
     ]
    },
    {
     "name": "stderr",
     "output_type": "stream",
     "text": [
      "WARNING:tensorflow:Value in checkpoint could not be found in the restored object: (root).agent._optimizer._variables.22\n"
     ]
    },
    {
     "name": "stdout",
     "output_type": "stream",
     "text": [
      "WARNING:tensorflow:Value in checkpoint could not be found in the restored object: (root).agent._optimizer._variables.23\n"
     ]
    },
    {
     "name": "stderr",
     "output_type": "stream",
     "text": [
      "WARNING:tensorflow:Value in checkpoint could not be found in the restored object: (root).agent._optimizer._variables.23\n"
     ]
    },
    {
     "name": "stdout",
     "output_type": "stream",
     "text": [
      "WARNING:tensorflow:Value in checkpoint could not be found in the restored object: (root).agent._optimizer._variables.24\n"
     ]
    },
    {
     "name": "stderr",
     "output_type": "stream",
     "text": [
      "WARNING:tensorflow:Value in checkpoint could not be found in the restored object: (root).agent._optimizer._variables.24\n"
     ]
    },
    {
     "name": "stdout",
     "output_type": "stream",
     "text": [
      "WARNING:tensorflow:Value in checkpoint could not be found in the restored object: (root).agent._optimizer._variables.25\n"
     ]
    },
    {
     "name": "stderr",
     "output_type": "stream",
     "text": [
      "WARNING:tensorflow:Value in checkpoint could not be found in the restored object: (root).agent._optimizer._variables.25\n"
     ]
    },
    {
     "name": "stdout",
     "output_type": "stream",
     "text": [
      "WARNING:tensorflow:Value in checkpoint could not be found in the restored object: (root).agent._optimizer._variables.26\n"
     ]
    },
    {
     "name": "stderr",
     "output_type": "stream",
     "text": [
      "WARNING:tensorflow:Value in checkpoint could not be found in the restored object: (root).agent._optimizer._variables.26\n"
     ]
    },
    {
     "name": "stdout",
     "output_type": "stream",
     "text": [
      "WARNING:tensorflow:Detecting that an object or model or tf.train.Checkpoint is being deleted with unrestored values. See the following logs for the specific values in question. To silence these warnings, use `status.expect_partial()`. See https://www.tensorflow.org/api_docs/python/tf/train/Checkpoint#restorefor details about the status object returned by the restore function.\n"
     ]
    },
    {
     "name": "stderr",
     "output_type": "stream",
     "text": [
      "WARNING:tensorflow:Detecting that an object or model or tf.train.Checkpoint is being deleted with unrestored values. See the following logs for the specific values in question. To silence these warnings, use `status.expect_partial()`. See https://www.tensorflow.org/api_docs/python/tf/train/Checkpoint#restorefor details about the status object returned by the restore function.\n"
     ]
    },
    {
     "name": "stdout",
     "output_type": "stream",
     "text": [
      "WARNING:tensorflow:Value in checkpoint could not be found in the restored object: (root).agent._optimizer._variables.1\n"
     ]
    },
    {
     "name": "stderr",
     "output_type": "stream",
     "text": [
      "WARNING:tensorflow:Value in checkpoint could not be found in the restored object: (root).agent._optimizer._variables.1\n"
     ]
    },
    {
     "name": "stdout",
     "output_type": "stream",
     "text": [
      "WARNING:tensorflow:Value in checkpoint could not be found in the restored object: (root).agent._optimizer._variables.2\n"
     ]
    },
    {
     "name": "stderr",
     "output_type": "stream",
     "text": [
      "WARNING:tensorflow:Value in checkpoint could not be found in the restored object: (root).agent._optimizer._variables.2\n"
     ]
    },
    {
     "name": "stdout",
     "output_type": "stream",
     "text": [
      "WARNING:tensorflow:Value in checkpoint could not be found in the restored object: (root).agent._optimizer._variables.3\n"
     ]
    },
    {
     "name": "stderr",
     "output_type": "stream",
     "text": [
      "WARNING:tensorflow:Value in checkpoint could not be found in the restored object: (root).agent._optimizer._variables.3\n"
     ]
    },
    {
     "name": "stdout",
     "output_type": "stream",
     "text": [
      "WARNING:tensorflow:Value in checkpoint could not be found in the restored object: (root).agent._optimizer._variables.4\n"
     ]
    },
    {
     "name": "stderr",
     "output_type": "stream",
     "text": [
      "WARNING:tensorflow:Value in checkpoint could not be found in the restored object: (root).agent._optimizer._variables.4\n"
     ]
    },
    {
     "name": "stdout",
     "output_type": "stream",
     "text": [
      "WARNING:tensorflow:Value in checkpoint could not be found in the restored object: (root).agent._optimizer._variables.5\n"
     ]
    },
    {
     "name": "stderr",
     "output_type": "stream",
     "text": [
      "WARNING:tensorflow:Value in checkpoint could not be found in the restored object: (root).agent._optimizer._variables.5\n"
     ]
    },
    {
     "name": "stdout",
     "output_type": "stream",
     "text": [
      "WARNING:tensorflow:Value in checkpoint could not be found in the restored object: (root).agent._optimizer._variables.6\n"
     ]
    },
    {
     "name": "stderr",
     "output_type": "stream",
     "text": [
      "WARNING:tensorflow:Value in checkpoint could not be found in the restored object: (root).agent._optimizer._variables.6\n"
     ]
    },
    {
     "name": "stdout",
     "output_type": "stream",
     "text": [
      "WARNING:tensorflow:Value in checkpoint could not be found in the restored object: (root).agent._optimizer._variables.7\n"
     ]
    },
    {
     "name": "stderr",
     "output_type": "stream",
     "text": [
      "WARNING:tensorflow:Value in checkpoint could not be found in the restored object: (root).agent._optimizer._variables.7\n"
     ]
    },
    {
     "name": "stdout",
     "output_type": "stream",
     "text": [
      "WARNING:tensorflow:Value in checkpoint could not be found in the restored object: (root).agent._optimizer._variables.8\n"
     ]
    },
    {
     "name": "stderr",
     "output_type": "stream",
     "text": [
      "WARNING:tensorflow:Value in checkpoint could not be found in the restored object: (root).agent._optimizer._variables.8\n"
     ]
    },
    {
     "name": "stdout",
     "output_type": "stream",
     "text": [
      "WARNING:tensorflow:Value in checkpoint could not be found in the restored object: (root).agent._optimizer._variables.9\n"
     ]
    },
    {
     "name": "stderr",
     "output_type": "stream",
     "text": [
      "WARNING:tensorflow:Value in checkpoint could not be found in the restored object: (root).agent._optimizer._variables.9\n"
     ]
    },
    {
     "name": "stdout",
     "output_type": "stream",
     "text": [
      "WARNING:tensorflow:Value in checkpoint could not be found in the restored object: (root).agent._optimizer._variables.10\n"
     ]
    },
    {
     "name": "stderr",
     "output_type": "stream",
     "text": [
      "WARNING:tensorflow:Value in checkpoint could not be found in the restored object: (root).agent._optimizer._variables.10\n"
     ]
    },
    {
     "name": "stdout",
     "output_type": "stream",
     "text": [
      "WARNING:tensorflow:Value in checkpoint could not be found in the restored object: (root).agent._optimizer._variables.11\n"
     ]
    },
    {
     "name": "stderr",
     "output_type": "stream",
     "text": [
      "WARNING:tensorflow:Value in checkpoint could not be found in the restored object: (root).agent._optimizer._variables.11\n"
     ]
    },
    {
     "name": "stdout",
     "output_type": "stream",
     "text": [
      "WARNING:tensorflow:Value in checkpoint could not be found in the restored object: (root).agent._optimizer._variables.12\n"
     ]
    },
    {
     "name": "stderr",
     "output_type": "stream",
     "text": [
      "WARNING:tensorflow:Value in checkpoint could not be found in the restored object: (root).agent._optimizer._variables.12\n"
     ]
    },
    {
     "name": "stdout",
     "output_type": "stream",
     "text": [
      "WARNING:tensorflow:Value in checkpoint could not be found in the restored object: (root).agent._optimizer._variables.13\n"
     ]
    },
    {
     "name": "stderr",
     "output_type": "stream",
     "text": [
      "WARNING:tensorflow:Value in checkpoint could not be found in the restored object: (root).agent._optimizer._variables.13\n"
     ]
    },
    {
     "name": "stdout",
     "output_type": "stream",
     "text": [
      "WARNING:tensorflow:Value in checkpoint could not be found in the restored object: (root).agent._optimizer._variables.14\n"
     ]
    },
    {
     "name": "stderr",
     "output_type": "stream",
     "text": [
      "WARNING:tensorflow:Value in checkpoint could not be found in the restored object: (root).agent._optimizer._variables.14\n"
     ]
    },
    {
     "name": "stdout",
     "output_type": "stream",
     "text": [
      "WARNING:tensorflow:Value in checkpoint could not be found in the restored object: (root).agent._optimizer._variables.15\n"
     ]
    },
    {
     "name": "stderr",
     "output_type": "stream",
     "text": [
      "WARNING:tensorflow:Value in checkpoint could not be found in the restored object: (root).agent._optimizer._variables.15\n"
     ]
    },
    {
     "name": "stdout",
     "output_type": "stream",
     "text": [
      "WARNING:tensorflow:Value in checkpoint could not be found in the restored object: (root).agent._optimizer._variables.16\n"
     ]
    },
    {
     "name": "stderr",
     "output_type": "stream",
     "text": [
      "WARNING:tensorflow:Value in checkpoint could not be found in the restored object: (root).agent._optimizer._variables.16\n"
     ]
    },
    {
     "name": "stdout",
     "output_type": "stream",
     "text": [
      "WARNING:tensorflow:Value in checkpoint could not be found in the restored object: (root).agent._optimizer._variables.17\n"
     ]
    },
    {
     "name": "stderr",
     "output_type": "stream",
     "text": [
      "WARNING:tensorflow:Value in checkpoint could not be found in the restored object: (root).agent._optimizer._variables.17\n"
     ]
    },
    {
     "name": "stdout",
     "output_type": "stream",
     "text": [
      "WARNING:tensorflow:Value in checkpoint could not be found in the restored object: (root).agent._optimizer._variables.18\n"
     ]
    },
    {
     "name": "stderr",
     "output_type": "stream",
     "text": [
      "WARNING:tensorflow:Value in checkpoint could not be found in the restored object: (root).agent._optimizer._variables.18\n"
     ]
    },
    {
     "name": "stdout",
     "output_type": "stream",
     "text": [
      "WARNING:tensorflow:Value in checkpoint could not be found in the restored object: (root).agent._optimizer._variables.19\n"
     ]
    },
    {
     "name": "stderr",
     "output_type": "stream",
     "text": [
      "WARNING:tensorflow:Value in checkpoint could not be found in the restored object: (root).agent._optimizer._variables.19\n"
     ]
    },
    {
     "name": "stdout",
     "output_type": "stream",
     "text": [
      "WARNING:tensorflow:Value in checkpoint could not be found in the restored object: (root).agent._optimizer._variables.20\n"
     ]
    },
    {
     "name": "stderr",
     "output_type": "stream",
     "text": [
      "WARNING:tensorflow:Value in checkpoint could not be found in the restored object: (root).agent._optimizer._variables.20\n"
     ]
    },
    {
     "name": "stdout",
     "output_type": "stream",
     "text": [
      "WARNING:tensorflow:Value in checkpoint could not be found in the restored object: (root).agent._optimizer._variables.21\n"
     ]
    },
    {
     "name": "stderr",
     "output_type": "stream",
     "text": [
      "WARNING:tensorflow:Value in checkpoint could not be found in the restored object: (root).agent._optimizer._variables.21\n"
     ]
    },
    {
     "name": "stdout",
     "output_type": "stream",
     "text": [
      "WARNING:tensorflow:Value in checkpoint could not be found in the restored object: (root).agent._optimizer._variables.22\n"
     ]
    },
    {
     "name": "stderr",
     "output_type": "stream",
     "text": [
      "WARNING:tensorflow:Value in checkpoint could not be found in the restored object: (root).agent._optimizer._variables.22\n"
     ]
    },
    {
     "name": "stdout",
     "output_type": "stream",
     "text": [
      "WARNING:tensorflow:Value in checkpoint could not be found in the restored object: (root).agent._optimizer._variables.23\n"
     ]
    },
    {
     "name": "stderr",
     "output_type": "stream",
     "text": [
      "WARNING:tensorflow:Value in checkpoint could not be found in the restored object: (root).agent._optimizer._variables.23\n"
     ]
    },
    {
     "name": "stdout",
     "output_type": "stream",
     "text": [
      "WARNING:tensorflow:Value in checkpoint could not be found in the restored object: (root).agent._optimizer._variables.24\n"
     ]
    },
    {
     "name": "stderr",
     "output_type": "stream",
     "text": [
      "WARNING:tensorflow:Value in checkpoint could not be found in the restored object: (root).agent._optimizer._variables.24\n"
     ]
    },
    {
     "name": "stdout",
     "output_type": "stream",
     "text": [
      "WARNING:tensorflow:Value in checkpoint could not be found in the restored object: (root).agent._optimizer._variables.25\n"
     ]
    },
    {
     "name": "stderr",
     "output_type": "stream",
     "text": [
      "WARNING:tensorflow:Value in checkpoint could not be found in the restored object: (root).agent._optimizer._variables.25\n"
     ]
    },
    {
     "name": "stdout",
     "output_type": "stream",
     "text": [
      "WARNING:tensorflow:Value in checkpoint could not be found in the restored object: (root).agent._optimizer._variables.26\n"
     ]
    },
    {
     "name": "stderr",
     "output_type": "stream",
     "text": [
      "WARNING:tensorflow:Value in checkpoint could not be found in the restored object: (root).agent._optimizer._variables.26\n"
     ]
    },
    {
     "name": "stdout",
     "output_type": "stream",
     "text": [
      "Distance: 0.310 / Max distance: 2.905 / Reward: 399.604, \n",
      "Distance: 0.234 / Max distance: 0.745 / Reward: 481.250, \n",
      "Distance: 0.290 / Max distance: 2.133 / Reward: 266.126, \n"
     ]
    },
    {
     "ename": "KeyboardInterrupt",
     "evalue": "",
     "output_type": "error",
     "traceback": [
      "\u001b[0;31m---------------------------------------------------------------------------\u001b[0m",
      "\u001b[0;31mKeyboardInterrupt\u001b[0m                         Traceback (most recent call last)",
      "Cell \u001b[0;32mIn[65], line 4\u001b[0m\n\u001b[1;32m      2\u001b[0m \u001b[38;5;66;03m# Evaluate the agent's policy once before training.\u001b[39;00m\n\u001b[1;32m      3\u001b[0m os\u001b[38;5;241m.\u001b[39msystem(\u001b[38;5;124m\"\u001b[39m\u001b[38;5;124mrm px4_rl_output\u001b[39m\u001b[38;5;124m\"\u001b[39m\u001b[38;5;241m+\u001b[39m\u001b[38;5;28mstr\u001b[39m(eval_no_sample)\u001b[38;5;241m+\u001b[39m\u001b[38;5;124m\"\u001b[39m\u001b[38;5;124m.txt\u001b[39m\u001b[38;5;124m\"\u001b[39m)\n\u001b[0;32m----> 4\u001b[0m avg_return \u001b[38;5;241m=\u001b[39m \u001b[43mcompute_avg_return\u001b[49m\u001b[43m(\u001b[49m\u001b[43meval_env\u001b[49m\u001b[43m,\u001b[49m\u001b[43m \u001b[49m\u001b[43mtf_agent\u001b[49m\u001b[38;5;241;43m.\u001b[39;49m\u001b[43mpolicy\u001b[49m\u001b[43m,\u001b[49m\u001b[43m \u001b[49m\u001b[43mnum_eval_episodes\u001b[49m\u001b[43m)\u001b[49m\n\u001b[1;32m      5\u001b[0m os\u001b[38;5;241m.\u001b[39msystem(\u001b[38;5;124m\"\u001b[39m\u001b[38;5;124mmv px4_rl_output\u001b[39m\u001b[38;5;124m\"\u001b[39m\u001b[38;5;241m+\u001b[39m\u001b[38;5;28mstr\u001b[39m(eval_no_sample)\u001b[38;5;241m+\u001b[39m\u001b[38;5;124m\"\u001b[39m\u001b[38;5;124m.txt px4_rl_output\u001b[39m\u001b[38;5;124m\"\u001b[39m\u001b[38;5;241m+\u001b[39m\u001b[38;5;28mstr\u001b[39m(eval_no_sample)\u001b[38;5;241m+\u001b[39m\u001b[38;5;124m\"\u001b[39m\u001b[38;5;124m_0.txt\u001b[39m\u001b[38;5;124m\"\u001b[39m)\n\u001b[1;32m      6\u001b[0m os\u001b[38;5;241m.\u001b[39msystem(\u001b[38;5;124m\"\u001b[39m\u001b[38;5;124mmv px4_rl_action\u001b[39m\u001b[38;5;124m\"\u001b[39m\u001b[38;5;241m+\u001b[39m\u001b[38;5;28mstr\u001b[39m(eval_no_sample)\u001b[38;5;241m+\u001b[39m\u001b[38;5;124m\"\u001b[39m\u001b[38;5;124m.txt px4_rl_action\u001b[39m\u001b[38;5;124m\"\u001b[39m\u001b[38;5;241m+\u001b[39m\u001b[38;5;28mstr\u001b[39m(eval_no_sample)\u001b[38;5;241m+\u001b[39m\u001b[38;5;124m\"\u001b[39m\u001b[38;5;124m_0.txt\u001b[39m\u001b[38;5;124m\"\u001b[39m)\n",
      "Cell \u001b[0;32mIn[61], line 10\u001b[0m, in \u001b[0;36mcompute_avg_return\u001b[0;34m(environment, policy, num_episodes)\u001b[0m\n\u001b[1;32m      8\u001b[0m \u001b[38;5;28;01mwhile\u001b[39;00m \u001b[38;5;129;01mnot\u001b[39;00m time_step\u001b[38;5;241m.\u001b[39mis_last():\n\u001b[1;32m      9\u001b[0m     action_step \u001b[38;5;241m=\u001b[39m policy\u001b[38;5;241m.\u001b[39maction(time_step)\n\u001b[0;32m---> 10\u001b[0m     time_step \u001b[38;5;241m=\u001b[39m \u001b[43menvironment\u001b[49m\u001b[38;5;241;43m.\u001b[39;49m\u001b[43mstep\u001b[49m\u001b[43m(\u001b[49m\u001b[43maction_step\u001b[49m\u001b[38;5;241;43m.\u001b[39;49m\u001b[43maction\u001b[49m\u001b[43m)\u001b[49m\n\u001b[1;32m     11\u001b[0m     episode_return \u001b[38;5;241m+\u001b[39m\u001b[38;5;241m=\u001b[39m time_step\u001b[38;5;241m.\u001b[39mreward\n\u001b[1;32m     12\u001b[0m total_return \u001b[38;5;241m+\u001b[39m\u001b[38;5;241m=\u001b[39m episode_return\n",
      "File \u001b[0;32m~/agents-master/tf_agents/environments/tf_environment.py:241\u001b[0m, in \u001b[0;36mTFEnvironment.step\u001b[0;34m(self, action)\u001b[0m\n\u001b[1;32m    211\u001b[0m \u001b[38;5;28;01mdef\u001b[39;00m \u001b[38;5;21mstep\u001b[39m(\u001b[38;5;28mself\u001b[39m, action):\n\u001b[1;32m    212\u001b[0m \u001b[38;5;250m  \u001b[39m\u001b[38;5;124;03m\"\"\"Steps the environment according to the action.\u001b[39;00m\n\u001b[1;32m    213\u001b[0m \n\u001b[1;32m    214\u001b[0m \u001b[38;5;124;03m  If the environment returned a `TimeStep` with `StepType.LAST` at the\u001b[39;00m\n\u001b[0;32m   (...)\u001b[0m\n\u001b[1;32m    239\u001b[0m \u001b[38;5;124;03m        corresponding to `observation_spec()`.\u001b[39;00m\n\u001b[1;32m    240\u001b[0m \u001b[38;5;124;03m  \"\"\"\u001b[39;00m\n\u001b[0;32m--> 241\u001b[0m   \u001b[38;5;28;01mreturn\u001b[39;00m \u001b[38;5;28;43mself\u001b[39;49m\u001b[38;5;241;43m.\u001b[39;49m\u001b[43m_step\u001b[49m\u001b[43m(\u001b[49m\u001b[43maction\u001b[49m\u001b[43m)\u001b[49m\n",
      "File \u001b[0;32m~/agents-master/tf_agents/environments/tf_py_environment.py:315\u001b[0m, in \u001b[0;36mTFPyEnvironment._step\u001b[0;34m(self, actions)\u001b[0m\n\u001b[1;32m    309\u001b[0m     \u001b[38;5;28;01mif\u001b[39;00m (action\u001b[38;5;241m.\u001b[39mshape\u001b[38;5;241m.\u001b[39mrank \u001b[38;5;241m==\u001b[39m \u001b[38;5;241m0\u001b[39m \u001b[38;5;129;01mor\u001b[39;00m\n\u001b[1;32m    310\u001b[0m         (dim_value \u001b[38;5;129;01mis\u001b[39;00m \u001b[38;5;129;01mnot\u001b[39;00m \u001b[38;5;28;01mNone\u001b[39;00m \u001b[38;5;129;01mand\u001b[39;00m dim_value \u001b[38;5;241m!=\u001b[39m \u001b[38;5;28mself\u001b[39m\u001b[38;5;241m.\u001b[39mbatch_size)):\n\u001b[1;32m    311\u001b[0m       \u001b[38;5;28;01mraise\u001b[39;00m \u001b[38;5;167;01mValueError\u001b[39;00m(\n\u001b[1;32m    312\u001b[0m           \u001b[38;5;124m'\u001b[39m\u001b[38;5;124mExpected actions whose major dimension is batch_size (\u001b[39m\u001b[38;5;132;01m%d\u001b[39;00m\u001b[38;5;124m), \u001b[39m\u001b[38;5;124m'\u001b[39m\n\u001b[1;32m    313\u001b[0m           \u001b[38;5;124m'\u001b[39m\u001b[38;5;124mbut saw action with shape \u001b[39m\u001b[38;5;132;01m%s\u001b[39;00m\u001b[38;5;124m:\u001b[39m\u001b[38;5;130;01m\\n\u001b[39;00m\u001b[38;5;124m   \u001b[39m\u001b[38;5;132;01m%s\u001b[39;00m\u001b[38;5;124m'\u001b[39m \u001b[38;5;241m%\u001b[39m\n\u001b[1;32m    314\u001b[0m           (\u001b[38;5;28mself\u001b[39m\u001b[38;5;241m.\u001b[39mbatch_size, action\u001b[38;5;241m.\u001b[39mshape, action))\n\u001b[0;32m--> 315\u001b[0m outputs \u001b[38;5;241m=\u001b[39m \u001b[43mtf\u001b[49m\u001b[38;5;241;43m.\u001b[39;49m\u001b[43mnumpy_function\u001b[49m\u001b[43m(\u001b[49m\n\u001b[1;32m    316\u001b[0m \u001b[43m    \u001b[49m\u001b[43m_isolated_step_py\u001b[49m\u001b[43m,\u001b[49m\n\u001b[1;32m    317\u001b[0m \u001b[43m    \u001b[49m\u001b[43mflat_actions\u001b[49m\u001b[43m,\u001b[49m\n\u001b[1;32m    318\u001b[0m \u001b[43m    \u001b[49m\u001b[38;5;28;43mself\u001b[39;49m\u001b[38;5;241;43m.\u001b[39;49m\u001b[43m_time_step_dtypes\u001b[49m\u001b[43m,\u001b[49m\n\u001b[1;32m    319\u001b[0m \u001b[43m    \u001b[49m\u001b[43mname\u001b[49m\u001b[38;5;241;43m=\u001b[39;49m\u001b[38;5;124;43m'\u001b[39;49m\u001b[38;5;124;43mstep_py_func\u001b[39;49m\u001b[38;5;124;43m'\u001b[39;49m\u001b[43m)\u001b[49m\n\u001b[1;32m    320\u001b[0m \u001b[38;5;28;01mreturn\u001b[39;00m \u001b[38;5;28mself\u001b[39m\u001b[38;5;241m.\u001b[39m_time_step_from_numpy_function_outputs(outputs)\n",
      "File \u001b[0;32m~/.local/lib/python3.9/site-packages/tensorflow/python/util/traceback_utils.py:150\u001b[0m, in \u001b[0;36mfilter_traceback.<locals>.error_handler\u001b[0;34m(*args, **kwargs)\u001b[0m\n\u001b[1;32m    148\u001b[0m filtered_tb \u001b[38;5;241m=\u001b[39m \u001b[38;5;28;01mNone\u001b[39;00m\n\u001b[1;32m    149\u001b[0m \u001b[38;5;28;01mtry\u001b[39;00m:\n\u001b[0;32m--> 150\u001b[0m   \u001b[38;5;28;01mreturn\u001b[39;00m \u001b[43mfn\u001b[49m\u001b[43m(\u001b[49m\u001b[38;5;241;43m*\u001b[39;49m\u001b[43margs\u001b[49m\u001b[43m,\u001b[49m\u001b[43m \u001b[49m\u001b[38;5;241;43m*\u001b[39;49m\u001b[38;5;241;43m*\u001b[39;49m\u001b[43mkwargs\u001b[49m\u001b[43m)\u001b[49m\n\u001b[1;32m    151\u001b[0m \u001b[38;5;28;01mexcept\u001b[39;00m \u001b[38;5;167;01mException\u001b[39;00m \u001b[38;5;28;01mas\u001b[39;00m e:\n\u001b[1;32m    152\u001b[0m   filtered_tb \u001b[38;5;241m=\u001b[39m _process_traceback_frames(e\u001b[38;5;241m.\u001b[39m__traceback__)\n",
      "File \u001b[0;32m~/.local/lib/python3.9/site-packages/tensorflow/python/util/dispatch.py:1176\u001b[0m, in \u001b[0;36madd_dispatch_support.<locals>.decorator.<locals>.op_dispatch_handler\u001b[0;34m(*args, **kwargs)\u001b[0m\n\u001b[1;32m   1174\u001b[0m \u001b[38;5;66;03m# Fallback dispatch system (dispatch v1):\u001b[39;00m\n\u001b[1;32m   1175\u001b[0m \u001b[38;5;28;01mtry\u001b[39;00m:\n\u001b[0;32m-> 1176\u001b[0m   \u001b[38;5;28;01mreturn\u001b[39;00m \u001b[43mdispatch_target\u001b[49m\u001b[43m(\u001b[49m\u001b[38;5;241;43m*\u001b[39;49m\u001b[43margs\u001b[49m\u001b[43m,\u001b[49m\u001b[43m \u001b[49m\u001b[38;5;241;43m*\u001b[39;49m\u001b[38;5;241;43m*\u001b[39;49m\u001b[43mkwargs\u001b[49m\u001b[43m)\u001b[49m\n\u001b[1;32m   1177\u001b[0m \u001b[38;5;28;01mexcept\u001b[39;00m (\u001b[38;5;167;01mTypeError\u001b[39;00m, \u001b[38;5;167;01mValueError\u001b[39;00m):\n\u001b[1;32m   1178\u001b[0m   \u001b[38;5;66;03m# Note: convert_to_eager_tensor currently raises a ValueError, not a\u001b[39;00m\n\u001b[1;32m   1179\u001b[0m   \u001b[38;5;66;03m# TypeError, when given unexpected types.  So we need to catch both.\u001b[39;00m\n\u001b[1;32m   1180\u001b[0m   result \u001b[38;5;241m=\u001b[39m dispatch(op_dispatch_handler, args, kwargs)\n",
      "File \u001b[0;32m~/.local/lib/python3.9/site-packages/tensorflow/python/ops/script_ops.py:767\u001b[0m, in \u001b[0;36mnumpy_function\u001b[0;34m(func, inp, Tout, stateful, name)\u001b[0m\n\u001b[1;32m    683\u001b[0m \u001b[38;5;129m@tf_export\u001b[39m(\u001b[38;5;124m\"\u001b[39m\u001b[38;5;124mnumpy_function\u001b[39m\u001b[38;5;124m\"\u001b[39m)\n\u001b[1;32m    684\u001b[0m \u001b[38;5;129m@dispatch\u001b[39m\u001b[38;5;241m.\u001b[39madd_dispatch_support\n\u001b[1;32m    685\u001b[0m \u001b[38;5;28;01mdef\u001b[39;00m \u001b[38;5;21mnumpy_function\u001b[39m(func, inp, Tout, stateful\u001b[38;5;241m=\u001b[39m\u001b[38;5;28;01mTrue\u001b[39;00m, name\u001b[38;5;241m=\u001b[39m\u001b[38;5;28;01mNone\u001b[39;00m):\n\u001b[1;32m    686\u001b[0m \u001b[38;5;250m  \u001b[39m\u001b[38;5;124;03m\"\"\"Wraps a python function and uses it as a TensorFlow op.\u001b[39;00m\n\u001b[1;32m    687\u001b[0m \n\u001b[1;32m    688\u001b[0m \u001b[38;5;124;03m  Given a python function `func` wrap this function as an operation in a\u001b[39;00m\n\u001b[0;32m   (...)\u001b[0m\n\u001b[1;32m    765\u001b[0m \u001b[38;5;124;03m    Single or list of `tf.Tensor` which `func` computes.\u001b[39;00m\n\u001b[1;32m    766\u001b[0m \u001b[38;5;124;03m  \"\"\"\u001b[39;00m\n\u001b[0;32m--> 767\u001b[0m   \u001b[38;5;28;01mreturn\u001b[39;00m \u001b[43mpy_func_common\u001b[49m\u001b[43m(\u001b[49m\u001b[43mfunc\u001b[49m\u001b[43m,\u001b[49m\u001b[43m \u001b[49m\u001b[43minp\u001b[49m\u001b[43m,\u001b[49m\u001b[43m \u001b[49m\u001b[43mTout\u001b[49m\u001b[43m,\u001b[49m\u001b[43m \u001b[49m\u001b[43mstateful\u001b[49m\u001b[38;5;241;43m=\u001b[39;49m\u001b[43mstateful\u001b[49m\u001b[43m,\u001b[49m\u001b[43m \u001b[49m\u001b[43mname\u001b[49m\u001b[38;5;241;43m=\u001b[39;49m\u001b[43mname\u001b[49m\u001b[43m)\u001b[49m\n",
      "File \u001b[0;32m~/.local/lib/python3.9/site-packages/tensorflow/python/ops/script_ops.py:633\u001b[0m, in \u001b[0;36mpy_func_common\u001b[0;34m(func, inp, Tout, stateful, name)\u001b[0m\n\u001b[1;32m    524\u001b[0m \u001b[38;5;250m\u001b[39m\u001b[38;5;124;03m\"\"\"Wraps a python function and uses it as a TensorFlow op.\u001b[39;00m\n\u001b[1;32m    525\u001b[0m \n\u001b[1;32m    526\u001b[0m \u001b[38;5;124;03mGiven a python function `func`, which takes numpy arrays as its\u001b[39;00m\n\u001b[0;32m   (...)\u001b[0m\n\u001b[1;32m    630\u001b[0m \n\u001b[1;32m    631\u001b[0m \u001b[38;5;124;03m\"\"\"\u001b[39;00m\n\u001b[1;32m    632\u001b[0m \u001b[38;5;28;01mif\u001b[39;00m context\u001b[38;5;241m.\u001b[39mexecuting_eagerly():\n\u001b[0;32m--> 633\u001b[0m   result \u001b[38;5;241m=\u001b[39m \u001b[43mfunc\u001b[49m\u001b[43m(\u001b[49m\u001b[38;5;241;43m*\u001b[39;49m\u001b[43m[\u001b[49m\u001b[43mnp\u001b[49m\u001b[38;5;241;43m.\u001b[39;49m\u001b[43marray\u001b[49m\u001b[43m(\u001b[49m\u001b[43mx\u001b[49m\u001b[43m)\u001b[49m\u001b[43m \u001b[49m\u001b[38;5;28;43;01mfor\u001b[39;49;00m\u001b[43m \u001b[49m\u001b[43mx\u001b[49m\u001b[43m \u001b[49m\u001b[38;5;129;43;01min\u001b[39;49;00m\u001b[43m \u001b[49m\u001b[43minp\u001b[49m\u001b[43m]\u001b[49m\u001b[43m)\u001b[49m\n\u001b[1;32m    634\u001b[0m   result \u001b[38;5;241m=\u001b[39m nest\u001b[38;5;241m.\u001b[39mflatten(result)\n\u001b[1;32m    636\u001b[0m   result \u001b[38;5;241m=\u001b[39m [x \u001b[38;5;28;01mif\u001b[39;00m x \u001b[38;5;129;01mis\u001b[39;00m \u001b[38;5;28;01mNone\u001b[39;00m \u001b[38;5;28;01melse\u001b[39;00m ops\u001b[38;5;241m.\u001b[39mconvert_to_tensor(x) \u001b[38;5;28;01mfor\u001b[39;00m x \u001b[38;5;129;01min\u001b[39;00m result]\n",
      "File \u001b[0;32m~/agents-master/tf_agents/environments/tf_py_environment.py:302\u001b[0m, in \u001b[0;36mTFPyEnvironment._step.<locals>._isolated_step_py\u001b[0;34m(*flattened_actions)\u001b[0m\n\u001b[1;32m    301\u001b[0m \u001b[38;5;28;01mdef\u001b[39;00m \u001b[38;5;21m_isolated_step_py\u001b[39m(\u001b[38;5;241m*\u001b[39mflattened_actions):\n\u001b[0;32m--> 302\u001b[0m   \u001b[38;5;28;01mreturn\u001b[39;00m \u001b[38;5;28;43mself\u001b[39;49m\u001b[38;5;241;43m.\u001b[39;49m\u001b[43m_execute\u001b[49m\u001b[43m(\u001b[49m\u001b[43m_step_py\u001b[49m\u001b[43m,\u001b[49m\u001b[43m \u001b[49m\u001b[38;5;241;43m*\u001b[39;49m\u001b[43mflattened_actions\u001b[49m\u001b[43m)\u001b[49m\n",
      "File \u001b[0;32m~/agents-master/tf_agents/environments/tf_py_environment.py:211\u001b[0m, in \u001b[0;36mTFPyEnvironment._execute\u001b[0;34m(self, fn, *args, **kwargs)\u001b[0m\n\u001b[1;32m    209\u001b[0m \u001b[38;5;28;01mdef\u001b[39;00m \u001b[38;5;21m_execute\u001b[39m(\u001b[38;5;28mself\u001b[39m, fn, \u001b[38;5;241m*\u001b[39margs, \u001b[38;5;241m*\u001b[39m\u001b[38;5;241m*\u001b[39mkwargs):\n\u001b[1;32m    210\u001b[0m   \u001b[38;5;28;01mif\u001b[39;00m \u001b[38;5;129;01mnot\u001b[39;00m \u001b[38;5;28mself\u001b[39m\u001b[38;5;241m.\u001b[39m_pool:\n\u001b[0;32m--> 211\u001b[0m     \u001b[38;5;28;01mreturn\u001b[39;00m \u001b[43mfn\u001b[49m\u001b[43m(\u001b[49m\u001b[38;5;241;43m*\u001b[39;49m\u001b[43margs\u001b[49m\u001b[43m,\u001b[49m\u001b[43m \u001b[49m\u001b[38;5;241;43m*\u001b[39;49m\u001b[38;5;241;43m*\u001b[39;49m\u001b[43mkwargs\u001b[49m\u001b[43m)\u001b[49m\n\u001b[1;32m    212\u001b[0m   \u001b[38;5;28;01mreturn\u001b[39;00m \u001b[38;5;28mself\u001b[39m\u001b[38;5;241m.\u001b[39m_pool\u001b[38;5;241m.\u001b[39mapply(fn, args\u001b[38;5;241m=\u001b[39margs, kwds\u001b[38;5;241m=\u001b[39mkwargs)\n",
      "File \u001b[0;32m~/agents-master/tf_agents/environments/tf_py_environment.py:298\u001b[0m, in \u001b[0;36mTFPyEnvironment._step.<locals>._step_py\u001b[0;34m(*flattened_actions)\u001b[0m\n\u001b[1;32m    295\u001b[0m \u001b[38;5;28;01mwith\u001b[39;00m _check_not_called_concurrently(\u001b[38;5;28mself\u001b[39m\u001b[38;5;241m.\u001b[39m_lock):\n\u001b[1;32m    296\u001b[0m   packed \u001b[38;5;241m=\u001b[39m tf\u001b[38;5;241m.\u001b[39mnest\u001b[38;5;241m.\u001b[39mpack_sequence_as(\n\u001b[1;32m    297\u001b[0m       structure\u001b[38;5;241m=\u001b[39m\u001b[38;5;28mself\u001b[39m\u001b[38;5;241m.\u001b[39maction_spec(), flat_sequence\u001b[38;5;241m=\u001b[39mflattened_actions)\n\u001b[0;32m--> 298\u001b[0m   \u001b[38;5;28mself\u001b[39m\u001b[38;5;241m.\u001b[39m_time_step \u001b[38;5;241m=\u001b[39m \u001b[38;5;28;43mself\u001b[39;49m\u001b[38;5;241;43m.\u001b[39;49m\u001b[43m_env\u001b[49m\u001b[38;5;241;43m.\u001b[39;49m\u001b[43mstep\u001b[49m\u001b[43m(\u001b[49m\u001b[43mpacked\u001b[49m\u001b[43m)\u001b[49m\n\u001b[1;32m    299\u001b[0m   \u001b[38;5;28;01mreturn\u001b[39;00m tf\u001b[38;5;241m.\u001b[39mnest\u001b[38;5;241m.\u001b[39mflatten(\u001b[38;5;28mself\u001b[39m\u001b[38;5;241m.\u001b[39m_time_step)\n",
      "File \u001b[0;32m~/agents-master/tf_agents/environments/py_environment.py:232\u001b[0m, in \u001b[0;36mPyEnvironment.step\u001b[0;34m(self, action)\u001b[0m\n\u001b[1;32m    228\u001b[0m \u001b[38;5;28;01mif\u001b[39;00m (\u001b[38;5;28mself\u001b[39m\u001b[38;5;241m.\u001b[39m_current_time_step \u001b[38;5;129;01mis\u001b[39;00m \u001b[38;5;28;01mNone\u001b[39;00m \u001b[38;5;129;01mor\u001b[39;00m\n\u001b[1;32m    229\u001b[0m     \u001b[38;5;28mself\u001b[39m\u001b[38;5;241m.\u001b[39mshould_reset(\u001b[38;5;28mself\u001b[39m\u001b[38;5;241m.\u001b[39m_current_time_step)):\n\u001b[1;32m    230\u001b[0m   \u001b[38;5;28;01mreturn\u001b[39;00m \u001b[38;5;28mself\u001b[39m\u001b[38;5;241m.\u001b[39mreset()\n\u001b[0;32m--> 232\u001b[0m \u001b[38;5;28mself\u001b[39m\u001b[38;5;241m.\u001b[39m_current_time_step \u001b[38;5;241m=\u001b[39m \u001b[38;5;28;43mself\u001b[39;49m\u001b[38;5;241;43m.\u001b[39;49m\u001b[43m_step\u001b[49m\u001b[43m(\u001b[49m\u001b[43maction\u001b[49m\u001b[43m)\u001b[49m\n\u001b[1;32m    233\u001b[0m \u001b[38;5;28;01mreturn\u001b[39;00m \u001b[38;5;28mself\u001b[39m\u001b[38;5;241m.\u001b[39m_current_time_step\n",
      "File \u001b[0;32m~/agents-master/tf_agents/environments/batched_py_environment.py:165\u001b[0m, in \u001b[0;36mBatchedPyEnvironment._step\u001b[0;34m(self, actions)\u001b[0m\n\u001b[1;32m    163\u001b[0m \u001b[38;5;28;01mif\u001b[39;00m \u001b[38;5;28mself\u001b[39m\u001b[38;5;241m.\u001b[39m_num_envs \u001b[38;5;241m==\u001b[39m \u001b[38;5;241m1\u001b[39m:\n\u001b[1;32m    164\u001b[0m   actions \u001b[38;5;241m=\u001b[39m nest_utils\u001b[38;5;241m.\u001b[39munbatch_nested_array(actions)\n\u001b[0;32m--> 165\u001b[0m   time_steps \u001b[38;5;241m=\u001b[39m \u001b[38;5;28;43mself\u001b[39;49m\u001b[38;5;241;43m.\u001b[39;49m\u001b[43m_envs\u001b[49m\u001b[43m[\u001b[49m\u001b[38;5;241;43m0\u001b[39;49m\u001b[43m]\u001b[49m\u001b[38;5;241;43m.\u001b[39;49m\u001b[43mstep\u001b[49m\u001b[43m(\u001b[49m\u001b[43mactions\u001b[49m\u001b[43m)\u001b[49m\n\u001b[1;32m    166\u001b[0m   \u001b[38;5;28;01mreturn\u001b[39;00m nest_utils\u001b[38;5;241m.\u001b[39mbatch_nested_array(time_steps)\n\u001b[1;32m    167\u001b[0m \u001b[38;5;28;01melse\u001b[39;00m:\n",
      "File \u001b[0;32m~/agents-master/tf_agents/environments/py_environment.py:232\u001b[0m, in \u001b[0;36mPyEnvironment.step\u001b[0;34m(self, action)\u001b[0m\n\u001b[1;32m    228\u001b[0m \u001b[38;5;28;01mif\u001b[39;00m (\u001b[38;5;28mself\u001b[39m\u001b[38;5;241m.\u001b[39m_current_time_step \u001b[38;5;129;01mis\u001b[39;00m \u001b[38;5;28;01mNone\u001b[39;00m \u001b[38;5;129;01mor\u001b[39;00m\n\u001b[1;32m    229\u001b[0m     \u001b[38;5;28mself\u001b[39m\u001b[38;5;241m.\u001b[39mshould_reset(\u001b[38;5;28mself\u001b[39m\u001b[38;5;241m.\u001b[39m_current_time_step)):\n\u001b[1;32m    230\u001b[0m   \u001b[38;5;28;01mreturn\u001b[39;00m \u001b[38;5;28mself\u001b[39m\u001b[38;5;241m.\u001b[39mreset()\n\u001b[0;32m--> 232\u001b[0m \u001b[38;5;28mself\u001b[39m\u001b[38;5;241m.\u001b[39m_current_time_step \u001b[38;5;241m=\u001b[39m \u001b[38;5;28;43mself\u001b[39;49m\u001b[38;5;241;43m.\u001b[39;49m\u001b[43m_step\u001b[49m\u001b[43m(\u001b[49m\u001b[43maction\u001b[49m\u001b[43m)\u001b[49m\n\u001b[1;32m    233\u001b[0m \u001b[38;5;28;01mreturn\u001b[39;00m \u001b[38;5;28mself\u001b[39m\u001b[38;5;241m.\u001b[39m_current_time_step\n",
      "Cell \u001b[0;32mIn[60], line 53\u001b[0m, in \u001b[0;36mPX4_RL_PID._step\u001b[0;34m(self, action)\u001b[0m\n\u001b[1;32m     51\u001b[0m \u001b[38;5;66;03m#wait for sample period\u001b[39;00m\n\u001b[1;32m     52\u001b[0m \u001b[38;5;28;01mwhile\u001b[39;00m time\u001b[38;5;241m.\u001b[39mtime() \u001b[38;5;241m-\u001b[39m \u001b[38;5;28mself\u001b[39m\u001b[38;5;241m.\u001b[39msample_stamp \u001b[38;5;241m<\u001b[39m \u001b[38;5;28mself\u001b[39m\u001b[38;5;241m.\u001b[39maction_period:\n\u001b[0;32m---> 53\u001b[0m     \u001b[43mtime\u001b[49m\u001b[38;5;241;43m.\u001b[39;49m\u001b[43msleep\u001b[49m\u001b[43m(\u001b[49m\u001b[38;5;28;43mself\u001b[39;49m\u001b[38;5;241;43m.\u001b[39;49m\u001b[43mdelay_period\u001b[49m\u001b[43m)\u001b[49m\n\u001b[1;32m     54\u001b[0m \u001b[38;5;28mself\u001b[39m\u001b[38;5;241m.\u001b[39msample_stamp \u001b[38;5;241m=\u001b[39m time\u001b[38;5;241m.\u001b[39mtime()\n\u001b[1;32m     56\u001b[0m px4_set_target_depth_local(\u001b[38;5;241m-\u001b[39mtarget_elevation)\n",
      "\u001b[0;31mKeyboardInterrupt\u001b[0m: "
     ]
    }
   ],
   "source": [
    "print(\"-----Evaluate----------\")\n",
    "# Evaluate the agent's policy once before training.\n",
    "os.system(\"rm px4_rl_output\"+str(eval_no_sample)+\".txt\")\n",
    "avg_return = compute_avg_return(eval_env, tf_agent.policy, num_eval_episodes)\n",
    "os.system(\"mv px4_rl_output\"+str(eval_no_sample)+\".txt px4_rl_output\"+str(eval_no_sample)+\"_0.txt\")\n",
    "os.system(\"mv px4_rl_action\"+str(eval_no_sample)+\".txt px4_rl_action\"+str(eval_no_sample)+\"_0.txt\")\n",
    "os.system(\"mv px4_rl_observation\"+str(eval_no_sample)+\".txt px4_rl_observation\"+str(eval_no_sample)+\"_0.txt\")\n",
    "returns = [avg_return]"
   ]
  },
  {
   "cell_type": "code",
   "execution_count": 63,
   "id": "344fec31",
   "metadata": {},
   "outputs": [
    {
     "name": "stdout",
     "output_type": "stream",
     "text": [
      "<tf.Variable 'global_step:0' shape=() dtype=int64, numpy=1855>\n"
     ]
    }
   ],
   "source": [
    "# Checkpoint saver\n",
    "tempdir='.'\n",
    "checkpoint_dir = os.path.join(tempdir, 'checkpoint')\n",
    "train_checkpointer = common.Checkpointer(\n",
    "    ckpt_dir=checkpoint_dir,\n",
    "    max_to_keep=1,\n",
    "    agent=tf_agent,\n",
    "    policy=tf_agent.policy,\n",
    "    replay_buffer=replay_buffer,\n",
    "    global_step=train_step_counter\n",
    "    )\n",
    "\n",
    "train_checkpointer.initialize_or_restore()\n",
    "train_step_counter = tf.compat.v1.train.get_global_step()\n",
    "print(train_step_counter)\n"
   ]
  },
  {
   "cell_type": "code",
   "execution_count": 21,
   "id": "143a7911",
   "metadata": {},
   "outputs": [
    {
     "name": "stdout",
     "output_type": "stream",
     "text": [
      "<tf.Variable 'global_step:0' shape=() dtype=int64, numpy=0>\n"
     ]
    }
   ],
   "source": [
    "print(train_step_counter)"
   ]
  },
  {
   "cell_type": "code",
   "execution_count": null,
   "id": "2806858a",
   "metadata": {
    "scrolled": true
   },
   "outputs": [
    {
     "name": "stdout",
     "output_type": "stream",
     "text": [
      "-----Train----------\n",
      "Iteration: 0 / 2587\n",
      "State: arm\n",
      "State: set_mode\n",
      "State: mode_wait\n",
      "Mode: flight_mode\n"
     ]
    }
   ],
   "source": [
    "global_counter = int(tf.compat.v1.train.get_global_step())\n",
    "print(\"-----Train----------\")\n",
    "############################################################\n",
    "for _ in range(num_iterations):\n",
    "    print(\"Iteration:\", _, \"/\", global_counter)\n",
    "    px4_arm()\n",
    "    px4_reset_pid_controller()\n",
    "    px4_steady_state()\n",
    "\n",
    "    # Collect a few episodes using collect_policy and save to the replay buffer.\n",
    "    collect_episode(\n",
    "        train_py_env, tf_agent.collect_policy, collect_episodes_per_iteration)\n",
    "\n",
    "    # Use data from the buffer and update the agent's network.\n",
    "    iterator = iter(replay_buffer.as_dataset(sample_batch_size=1))\n",
    "    trajectories, _ = next(iterator)\n",
    "    train_loss = tf_agent.train(experience=trajectories)  \n",
    "\n",
    "    replay_buffer.clear()\n",
    "\n",
    "    step = tf_agent.train_step_counter.numpy()\n",
    "    global_counter = int(tf.compat.v1.train.get_global_step())\n",
    "\n",
    "    train_checkpointer.save(step)\n",
    "    \n",
    "    f=open(\"px4_rl_output_loss.txt\", 'a')\n",
    "    f.write(\"%.3f\\n\" % float(train_loss.loss))\n",
    "    f.close()\n",
    "\n",
    "    #if step % log_interval == 0:\n",
    "    print(\"Loss: %.3f\" % float(train_loss.loss))\n",
    "    \n",
    "    if global_counter % checkpoint_interval == 0:\n",
    "        os.system(\"cp -r checkpoint checkpoint_%d\" % global_counter)  \n",
    "\n",
    "    if global_counter % eval_interval == 0:\n",
    "        #copy evaluation\n",
    "        os.system(\"rm px4_rl_output\"+str(eval_no_sample)+\".txt\")\n",
    "        avg_return = compute_avg_return(eval_env, tf_agent.policy, num_eval_episodes)\n",
    "        os.system(\"mv px4_rl_output\"+str(eval_no_sample)+\".txt px4_rl_output\"+str(eval_no_sample)+\"_%d.txt\" % global_counter)\n",
    "        print('step = {0}: Average Return = {1}'.format(step, avg_return))\n",
    "        #copy action and observation\n",
    "        os.system(\"mv px4_rl_action\"+str(eval_no_sample)+\".txt px4_rl_action\"+str(eval_no_sample)+\"_%d.txt\" % global_counter)\n",
    "        os.system(\"mv px4_rl_observation\"+str(eval_no_sample)+\".txt px4_rl_observation\"+str(eval_no_sample)+\"_%d.txt\" % global_counter)\n",
    "        # \n",
    "        returns.append(avg_return)\n",
    "\n"
   ]
  },
  {
   "cell_type": "code",
   "execution_count": 68,
   "id": "97c2ad83",
   "metadata": {
    "scrolled": true
   },
   "outputs": [
    {
     "name": "stdout",
     "output_type": "stream",
     "text": [
      "-----Evaluate----------\n"
     ]
    },
    {
     "ename": "KeyboardInterrupt",
     "evalue": "",
     "output_type": "error",
     "traceback": [
      "\u001b[0;31m---------------------------------------------------------------------------\u001b[0m",
      "\u001b[0;31mKeyboardInterrupt\u001b[0m                         Traceback (most recent call last)",
      "Cell \u001b[0;32mIn[68], line 4\u001b[0m\n\u001b[1;32m      2\u001b[0m \u001b[38;5;66;03m# Evaluate the agent's policy once before training.\u001b[39;00m\n\u001b[1;32m      3\u001b[0m os\u001b[38;5;241m.\u001b[39msystem(\u001b[38;5;124m\"\u001b[39m\u001b[38;5;124mrm px4_rl_output\u001b[39m\u001b[38;5;124m\"\u001b[39m\u001b[38;5;241m+\u001b[39m\u001b[38;5;28mstr\u001b[39m(eval_no_sample)\u001b[38;5;241m+\u001b[39m\u001b[38;5;124m\"\u001b[39m\u001b[38;5;124m.txt\u001b[39m\u001b[38;5;124m\"\u001b[39m)\n\u001b[0;32m----> 4\u001b[0m avg_return \u001b[38;5;241m=\u001b[39m \u001b[43mcompute_avg_return\u001b[49m\u001b[43m(\u001b[49m\u001b[43meval_env\u001b[49m\u001b[43m,\u001b[49m\u001b[43m \u001b[49m\u001b[43mtf_agent\u001b[49m\u001b[38;5;241;43m.\u001b[39;49m\u001b[43mpolicy\u001b[49m\u001b[43m,\u001b[49m\u001b[43m \u001b[49m\u001b[43mnum_eval_episodes\u001b[49m\u001b[43m)\u001b[49m\n\u001b[1;32m      5\u001b[0m os\u001b[38;5;241m.\u001b[39msystem(\u001b[38;5;124m\"\u001b[39m\u001b[38;5;124mmv px4_rl_output\u001b[39m\u001b[38;5;124m\"\u001b[39m\u001b[38;5;241m+\u001b[39m\u001b[38;5;28mstr\u001b[39m(eval_no_sample)\u001b[38;5;241m+\u001b[39m\u001b[38;5;124m\"\u001b[39m\u001b[38;5;124m.txt px4_rl_output\u001b[39m\u001b[38;5;124m\"\u001b[39m\u001b[38;5;241m+\u001b[39m\u001b[38;5;28mstr\u001b[39m(eval_no_sample)\u001b[38;5;241m+\u001b[39m\u001b[38;5;124m\"\u001b[39m\u001b[38;5;124m_600_2.txt\u001b[39m\u001b[38;5;124m\"\u001b[39m)\n\u001b[1;32m      6\u001b[0m returns \u001b[38;5;241m=\u001b[39m [avg_return]\n",
      "Cell \u001b[0;32mIn[61], line 10\u001b[0m, in \u001b[0;36mcompute_avg_return\u001b[0;34m(environment, policy, num_episodes)\u001b[0m\n\u001b[1;32m      8\u001b[0m \u001b[38;5;28;01mwhile\u001b[39;00m \u001b[38;5;129;01mnot\u001b[39;00m time_step\u001b[38;5;241m.\u001b[39mis_last():\n\u001b[1;32m      9\u001b[0m     action_step \u001b[38;5;241m=\u001b[39m policy\u001b[38;5;241m.\u001b[39maction(time_step)\n\u001b[0;32m---> 10\u001b[0m     time_step \u001b[38;5;241m=\u001b[39m \u001b[43menvironment\u001b[49m\u001b[38;5;241;43m.\u001b[39;49m\u001b[43mstep\u001b[49m\u001b[43m(\u001b[49m\u001b[43maction_step\u001b[49m\u001b[38;5;241;43m.\u001b[39;49m\u001b[43maction\u001b[49m\u001b[43m)\u001b[49m\n\u001b[1;32m     11\u001b[0m     episode_return \u001b[38;5;241m+\u001b[39m\u001b[38;5;241m=\u001b[39m time_step\u001b[38;5;241m.\u001b[39mreward\n\u001b[1;32m     12\u001b[0m total_return \u001b[38;5;241m+\u001b[39m\u001b[38;5;241m=\u001b[39m episode_return\n",
      "File \u001b[0;32m~/agents-master/tf_agents/environments/tf_environment.py:241\u001b[0m, in \u001b[0;36mTFEnvironment.step\u001b[0;34m(self, action)\u001b[0m\n\u001b[1;32m    211\u001b[0m \u001b[38;5;28;01mdef\u001b[39;00m \u001b[38;5;21mstep\u001b[39m(\u001b[38;5;28mself\u001b[39m, action):\n\u001b[1;32m    212\u001b[0m \u001b[38;5;250m  \u001b[39m\u001b[38;5;124;03m\"\"\"Steps the environment according to the action.\u001b[39;00m\n\u001b[1;32m    213\u001b[0m \n\u001b[1;32m    214\u001b[0m \u001b[38;5;124;03m  If the environment returned a `TimeStep` with `StepType.LAST` at the\u001b[39;00m\n\u001b[0;32m   (...)\u001b[0m\n\u001b[1;32m    239\u001b[0m \u001b[38;5;124;03m        corresponding to `observation_spec()`.\u001b[39;00m\n\u001b[1;32m    240\u001b[0m \u001b[38;5;124;03m  \"\"\"\u001b[39;00m\n\u001b[0;32m--> 241\u001b[0m   \u001b[38;5;28;01mreturn\u001b[39;00m \u001b[38;5;28;43mself\u001b[39;49m\u001b[38;5;241;43m.\u001b[39;49m\u001b[43m_step\u001b[49m\u001b[43m(\u001b[49m\u001b[43maction\u001b[49m\u001b[43m)\u001b[49m\n",
      "File \u001b[0;32m~/agents-master/tf_agents/environments/tf_py_environment.py:315\u001b[0m, in \u001b[0;36mTFPyEnvironment._step\u001b[0;34m(self, actions)\u001b[0m\n\u001b[1;32m    309\u001b[0m     \u001b[38;5;28;01mif\u001b[39;00m (action\u001b[38;5;241m.\u001b[39mshape\u001b[38;5;241m.\u001b[39mrank \u001b[38;5;241m==\u001b[39m \u001b[38;5;241m0\u001b[39m \u001b[38;5;129;01mor\u001b[39;00m\n\u001b[1;32m    310\u001b[0m         (dim_value \u001b[38;5;129;01mis\u001b[39;00m \u001b[38;5;129;01mnot\u001b[39;00m \u001b[38;5;28;01mNone\u001b[39;00m \u001b[38;5;129;01mand\u001b[39;00m dim_value \u001b[38;5;241m!=\u001b[39m \u001b[38;5;28mself\u001b[39m\u001b[38;5;241m.\u001b[39mbatch_size)):\n\u001b[1;32m    311\u001b[0m       \u001b[38;5;28;01mraise\u001b[39;00m \u001b[38;5;167;01mValueError\u001b[39;00m(\n\u001b[1;32m    312\u001b[0m           \u001b[38;5;124m'\u001b[39m\u001b[38;5;124mExpected actions whose major dimension is batch_size (\u001b[39m\u001b[38;5;132;01m%d\u001b[39;00m\u001b[38;5;124m), \u001b[39m\u001b[38;5;124m'\u001b[39m\n\u001b[1;32m    313\u001b[0m           \u001b[38;5;124m'\u001b[39m\u001b[38;5;124mbut saw action with shape \u001b[39m\u001b[38;5;132;01m%s\u001b[39;00m\u001b[38;5;124m:\u001b[39m\u001b[38;5;130;01m\\n\u001b[39;00m\u001b[38;5;124m   \u001b[39m\u001b[38;5;132;01m%s\u001b[39;00m\u001b[38;5;124m'\u001b[39m \u001b[38;5;241m%\u001b[39m\n\u001b[1;32m    314\u001b[0m           (\u001b[38;5;28mself\u001b[39m\u001b[38;5;241m.\u001b[39mbatch_size, action\u001b[38;5;241m.\u001b[39mshape, action))\n\u001b[0;32m--> 315\u001b[0m outputs \u001b[38;5;241m=\u001b[39m \u001b[43mtf\u001b[49m\u001b[38;5;241;43m.\u001b[39;49m\u001b[43mnumpy_function\u001b[49m\u001b[43m(\u001b[49m\n\u001b[1;32m    316\u001b[0m \u001b[43m    \u001b[49m\u001b[43m_isolated_step_py\u001b[49m\u001b[43m,\u001b[49m\n\u001b[1;32m    317\u001b[0m \u001b[43m    \u001b[49m\u001b[43mflat_actions\u001b[49m\u001b[43m,\u001b[49m\n\u001b[1;32m    318\u001b[0m \u001b[43m    \u001b[49m\u001b[38;5;28;43mself\u001b[39;49m\u001b[38;5;241;43m.\u001b[39;49m\u001b[43m_time_step_dtypes\u001b[49m\u001b[43m,\u001b[49m\n\u001b[1;32m    319\u001b[0m \u001b[43m    \u001b[49m\u001b[43mname\u001b[49m\u001b[38;5;241;43m=\u001b[39;49m\u001b[38;5;124;43m'\u001b[39;49m\u001b[38;5;124;43mstep_py_func\u001b[39;49m\u001b[38;5;124;43m'\u001b[39;49m\u001b[43m)\u001b[49m\n\u001b[1;32m    320\u001b[0m \u001b[38;5;28;01mreturn\u001b[39;00m \u001b[38;5;28mself\u001b[39m\u001b[38;5;241m.\u001b[39m_time_step_from_numpy_function_outputs(outputs)\n",
      "File \u001b[0;32m~/.local/lib/python3.9/site-packages/tensorflow/python/util/traceback_utils.py:150\u001b[0m, in \u001b[0;36mfilter_traceback.<locals>.error_handler\u001b[0;34m(*args, **kwargs)\u001b[0m\n\u001b[1;32m    148\u001b[0m filtered_tb \u001b[38;5;241m=\u001b[39m \u001b[38;5;28;01mNone\u001b[39;00m\n\u001b[1;32m    149\u001b[0m \u001b[38;5;28;01mtry\u001b[39;00m:\n\u001b[0;32m--> 150\u001b[0m   \u001b[38;5;28;01mreturn\u001b[39;00m \u001b[43mfn\u001b[49m\u001b[43m(\u001b[49m\u001b[38;5;241;43m*\u001b[39;49m\u001b[43margs\u001b[49m\u001b[43m,\u001b[49m\u001b[43m \u001b[49m\u001b[38;5;241;43m*\u001b[39;49m\u001b[38;5;241;43m*\u001b[39;49m\u001b[43mkwargs\u001b[49m\u001b[43m)\u001b[49m\n\u001b[1;32m    151\u001b[0m \u001b[38;5;28;01mexcept\u001b[39;00m \u001b[38;5;167;01mException\u001b[39;00m \u001b[38;5;28;01mas\u001b[39;00m e:\n\u001b[1;32m    152\u001b[0m   filtered_tb \u001b[38;5;241m=\u001b[39m _process_traceback_frames(e\u001b[38;5;241m.\u001b[39m__traceback__)\n",
      "File \u001b[0;32m~/.local/lib/python3.9/site-packages/tensorflow/python/util/dispatch.py:1176\u001b[0m, in \u001b[0;36madd_dispatch_support.<locals>.decorator.<locals>.op_dispatch_handler\u001b[0;34m(*args, **kwargs)\u001b[0m\n\u001b[1;32m   1174\u001b[0m \u001b[38;5;66;03m# Fallback dispatch system (dispatch v1):\u001b[39;00m\n\u001b[1;32m   1175\u001b[0m \u001b[38;5;28;01mtry\u001b[39;00m:\n\u001b[0;32m-> 1176\u001b[0m   \u001b[38;5;28;01mreturn\u001b[39;00m \u001b[43mdispatch_target\u001b[49m\u001b[43m(\u001b[49m\u001b[38;5;241;43m*\u001b[39;49m\u001b[43margs\u001b[49m\u001b[43m,\u001b[49m\u001b[43m \u001b[49m\u001b[38;5;241;43m*\u001b[39;49m\u001b[38;5;241;43m*\u001b[39;49m\u001b[43mkwargs\u001b[49m\u001b[43m)\u001b[49m\n\u001b[1;32m   1177\u001b[0m \u001b[38;5;28;01mexcept\u001b[39;00m (\u001b[38;5;167;01mTypeError\u001b[39;00m, \u001b[38;5;167;01mValueError\u001b[39;00m):\n\u001b[1;32m   1178\u001b[0m   \u001b[38;5;66;03m# Note: convert_to_eager_tensor currently raises a ValueError, not a\u001b[39;00m\n\u001b[1;32m   1179\u001b[0m   \u001b[38;5;66;03m# TypeError, when given unexpected types.  So we need to catch both.\u001b[39;00m\n\u001b[1;32m   1180\u001b[0m   result \u001b[38;5;241m=\u001b[39m dispatch(op_dispatch_handler, args, kwargs)\n",
      "File \u001b[0;32m~/.local/lib/python3.9/site-packages/tensorflow/python/ops/script_ops.py:767\u001b[0m, in \u001b[0;36mnumpy_function\u001b[0;34m(func, inp, Tout, stateful, name)\u001b[0m\n\u001b[1;32m    683\u001b[0m \u001b[38;5;129m@tf_export\u001b[39m(\u001b[38;5;124m\"\u001b[39m\u001b[38;5;124mnumpy_function\u001b[39m\u001b[38;5;124m\"\u001b[39m)\n\u001b[1;32m    684\u001b[0m \u001b[38;5;129m@dispatch\u001b[39m\u001b[38;5;241m.\u001b[39madd_dispatch_support\n\u001b[1;32m    685\u001b[0m \u001b[38;5;28;01mdef\u001b[39;00m \u001b[38;5;21mnumpy_function\u001b[39m(func, inp, Tout, stateful\u001b[38;5;241m=\u001b[39m\u001b[38;5;28;01mTrue\u001b[39;00m, name\u001b[38;5;241m=\u001b[39m\u001b[38;5;28;01mNone\u001b[39;00m):\n\u001b[1;32m    686\u001b[0m \u001b[38;5;250m  \u001b[39m\u001b[38;5;124;03m\"\"\"Wraps a python function and uses it as a TensorFlow op.\u001b[39;00m\n\u001b[1;32m    687\u001b[0m \n\u001b[1;32m    688\u001b[0m \u001b[38;5;124;03m  Given a python function `func` wrap this function as an operation in a\u001b[39;00m\n\u001b[0;32m   (...)\u001b[0m\n\u001b[1;32m    765\u001b[0m \u001b[38;5;124;03m    Single or list of `tf.Tensor` which `func` computes.\u001b[39;00m\n\u001b[1;32m    766\u001b[0m \u001b[38;5;124;03m  \"\"\"\u001b[39;00m\n\u001b[0;32m--> 767\u001b[0m   \u001b[38;5;28;01mreturn\u001b[39;00m \u001b[43mpy_func_common\u001b[49m\u001b[43m(\u001b[49m\u001b[43mfunc\u001b[49m\u001b[43m,\u001b[49m\u001b[43m \u001b[49m\u001b[43minp\u001b[49m\u001b[43m,\u001b[49m\u001b[43m \u001b[49m\u001b[43mTout\u001b[49m\u001b[43m,\u001b[49m\u001b[43m \u001b[49m\u001b[43mstateful\u001b[49m\u001b[38;5;241;43m=\u001b[39;49m\u001b[43mstateful\u001b[49m\u001b[43m,\u001b[49m\u001b[43m \u001b[49m\u001b[43mname\u001b[49m\u001b[38;5;241;43m=\u001b[39;49m\u001b[43mname\u001b[49m\u001b[43m)\u001b[49m\n",
      "File \u001b[0;32m~/.local/lib/python3.9/site-packages/tensorflow/python/ops/script_ops.py:633\u001b[0m, in \u001b[0;36mpy_func_common\u001b[0;34m(func, inp, Tout, stateful, name)\u001b[0m\n\u001b[1;32m    524\u001b[0m \u001b[38;5;250m\u001b[39m\u001b[38;5;124;03m\"\"\"Wraps a python function and uses it as a TensorFlow op.\u001b[39;00m\n\u001b[1;32m    525\u001b[0m \n\u001b[1;32m    526\u001b[0m \u001b[38;5;124;03mGiven a python function `func`, which takes numpy arrays as its\u001b[39;00m\n\u001b[0;32m   (...)\u001b[0m\n\u001b[1;32m    630\u001b[0m \n\u001b[1;32m    631\u001b[0m \u001b[38;5;124;03m\"\"\"\u001b[39;00m\n\u001b[1;32m    632\u001b[0m \u001b[38;5;28;01mif\u001b[39;00m context\u001b[38;5;241m.\u001b[39mexecuting_eagerly():\n\u001b[0;32m--> 633\u001b[0m   result \u001b[38;5;241m=\u001b[39m \u001b[43mfunc\u001b[49m\u001b[43m(\u001b[49m\u001b[38;5;241;43m*\u001b[39;49m\u001b[43m[\u001b[49m\u001b[43mnp\u001b[49m\u001b[38;5;241;43m.\u001b[39;49m\u001b[43marray\u001b[49m\u001b[43m(\u001b[49m\u001b[43mx\u001b[49m\u001b[43m)\u001b[49m\u001b[43m \u001b[49m\u001b[38;5;28;43;01mfor\u001b[39;49;00m\u001b[43m \u001b[49m\u001b[43mx\u001b[49m\u001b[43m \u001b[49m\u001b[38;5;129;43;01min\u001b[39;49;00m\u001b[43m \u001b[49m\u001b[43minp\u001b[49m\u001b[43m]\u001b[49m\u001b[43m)\u001b[49m\n\u001b[1;32m    634\u001b[0m   result \u001b[38;5;241m=\u001b[39m nest\u001b[38;5;241m.\u001b[39mflatten(result)\n\u001b[1;32m    636\u001b[0m   result \u001b[38;5;241m=\u001b[39m [x \u001b[38;5;28;01mif\u001b[39;00m x \u001b[38;5;129;01mis\u001b[39;00m \u001b[38;5;28;01mNone\u001b[39;00m \u001b[38;5;28;01melse\u001b[39;00m ops\u001b[38;5;241m.\u001b[39mconvert_to_tensor(x) \u001b[38;5;28;01mfor\u001b[39;00m x \u001b[38;5;129;01min\u001b[39;00m result]\n",
      "File \u001b[0;32m~/agents-master/tf_agents/environments/tf_py_environment.py:302\u001b[0m, in \u001b[0;36mTFPyEnvironment._step.<locals>._isolated_step_py\u001b[0;34m(*flattened_actions)\u001b[0m\n\u001b[1;32m    301\u001b[0m \u001b[38;5;28;01mdef\u001b[39;00m \u001b[38;5;21m_isolated_step_py\u001b[39m(\u001b[38;5;241m*\u001b[39mflattened_actions):\n\u001b[0;32m--> 302\u001b[0m   \u001b[38;5;28;01mreturn\u001b[39;00m \u001b[38;5;28;43mself\u001b[39;49m\u001b[38;5;241;43m.\u001b[39;49m\u001b[43m_execute\u001b[49m\u001b[43m(\u001b[49m\u001b[43m_step_py\u001b[49m\u001b[43m,\u001b[49m\u001b[43m \u001b[49m\u001b[38;5;241;43m*\u001b[39;49m\u001b[43mflattened_actions\u001b[49m\u001b[43m)\u001b[49m\n",
      "File \u001b[0;32m~/agents-master/tf_agents/environments/tf_py_environment.py:211\u001b[0m, in \u001b[0;36mTFPyEnvironment._execute\u001b[0;34m(self, fn, *args, **kwargs)\u001b[0m\n\u001b[1;32m    209\u001b[0m \u001b[38;5;28;01mdef\u001b[39;00m \u001b[38;5;21m_execute\u001b[39m(\u001b[38;5;28mself\u001b[39m, fn, \u001b[38;5;241m*\u001b[39margs, \u001b[38;5;241m*\u001b[39m\u001b[38;5;241m*\u001b[39mkwargs):\n\u001b[1;32m    210\u001b[0m   \u001b[38;5;28;01mif\u001b[39;00m \u001b[38;5;129;01mnot\u001b[39;00m \u001b[38;5;28mself\u001b[39m\u001b[38;5;241m.\u001b[39m_pool:\n\u001b[0;32m--> 211\u001b[0m     \u001b[38;5;28;01mreturn\u001b[39;00m \u001b[43mfn\u001b[49m\u001b[43m(\u001b[49m\u001b[38;5;241;43m*\u001b[39;49m\u001b[43margs\u001b[49m\u001b[43m,\u001b[49m\u001b[43m \u001b[49m\u001b[38;5;241;43m*\u001b[39;49m\u001b[38;5;241;43m*\u001b[39;49m\u001b[43mkwargs\u001b[49m\u001b[43m)\u001b[49m\n\u001b[1;32m    212\u001b[0m   \u001b[38;5;28;01mreturn\u001b[39;00m \u001b[38;5;28mself\u001b[39m\u001b[38;5;241m.\u001b[39m_pool\u001b[38;5;241m.\u001b[39mapply(fn, args\u001b[38;5;241m=\u001b[39margs, kwds\u001b[38;5;241m=\u001b[39mkwargs)\n",
      "File \u001b[0;32m~/agents-master/tf_agents/environments/tf_py_environment.py:298\u001b[0m, in \u001b[0;36mTFPyEnvironment._step.<locals>._step_py\u001b[0;34m(*flattened_actions)\u001b[0m\n\u001b[1;32m    295\u001b[0m \u001b[38;5;28;01mwith\u001b[39;00m _check_not_called_concurrently(\u001b[38;5;28mself\u001b[39m\u001b[38;5;241m.\u001b[39m_lock):\n\u001b[1;32m    296\u001b[0m   packed \u001b[38;5;241m=\u001b[39m tf\u001b[38;5;241m.\u001b[39mnest\u001b[38;5;241m.\u001b[39mpack_sequence_as(\n\u001b[1;32m    297\u001b[0m       structure\u001b[38;5;241m=\u001b[39m\u001b[38;5;28mself\u001b[39m\u001b[38;5;241m.\u001b[39maction_spec(), flat_sequence\u001b[38;5;241m=\u001b[39mflattened_actions)\n\u001b[0;32m--> 298\u001b[0m   \u001b[38;5;28mself\u001b[39m\u001b[38;5;241m.\u001b[39m_time_step \u001b[38;5;241m=\u001b[39m \u001b[38;5;28;43mself\u001b[39;49m\u001b[38;5;241;43m.\u001b[39;49m\u001b[43m_env\u001b[49m\u001b[38;5;241;43m.\u001b[39;49m\u001b[43mstep\u001b[49m\u001b[43m(\u001b[49m\u001b[43mpacked\u001b[49m\u001b[43m)\u001b[49m\n\u001b[1;32m    299\u001b[0m   \u001b[38;5;28;01mreturn\u001b[39;00m tf\u001b[38;5;241m.\u001b[39mnest\u001b[38;5;241m.\u001b[39mflatten(\u001b[38;5;28mself\u001b[39m\u001b[38;5;241m.\u001b[39m_time_step)\n",
      "File \u001b[0;32m~/agents-master/tf_agents/environments/py_environment.py:232\u001b[0m, in \u001b[0;36mPyEnvironment.step\u001b[0;34m(self, action)\u001b[0m\n\u001b[1;32m    228\u001b[0m \u001b[38;5;28;01mif\u001b[39;00m (\u001b[38;5;28mself\u001b[39m\u001b[38;5;241m.\u001b[39m_current_time_step \u001b[38;5;129;01mis\u001b[39;00m \u001b[38;5;28;01mNone\u001b[39;00m \u001b[38;5;129;01mor\u001b[39;00m\n\u001b[1;32m    229\u001b[0m     \u001b[38;5;28mself\u001b[39m\u001b[38;5;241m.\u001b[39mshould_reset(\u001b[38;5;28mself\u001b[39m\u001b[38;5;241m.\u001b[39m_current_time_step)):\n\u001b[1;32m    230\u001b[0m   \u001b[38;5;28;01mreturn\u001b[39;00m \u001b[38;5;28mself\u001b[39m\u001b[38;5;241m.\u001b[39mreset()\n\u001b[0;32m--> 232\u001b[0m \u001b[38;5;28mself\u001b[39m\u001b[38;5;241m.\u001b[39m_current_time_step \u001b[38;5;241m=\u001b[39m \u001b[38;5;28;43mself\u001b[39;49m\u001b[38;5;241;43m.\u001b[39;49m\u001b[43m_step\u001b[49m\u001b[43m(\u001b[49m\u001b[43maction\u001b[49m\u001b[43m)\u001b[49m\n\u001b[1;32m    233\u001b[0m \u001b[38;5;28;01mreturn\u001b[39;00m \u001b[38;5;28mself\u001b[39m\u001b[38;5;241m.\u001b[39m_current_time_step\n",
      "File \u001b[0;32m~/agents-master/tf_agents/environments/batched_py_environment.py:165\u001b[0m, in \u001b[0;36mBatchedPyEnvironment._step\u001b[0;34m(self, actions)\u001b[0m\n\u001b[1;32m    163\u001b[0m \u001b[38;5;28;01mif\u001b[39;00m \u001b[38;5;28mself\u001b[39m\u001b[38;5;241m.\u001b[39m_num_envs \u001b[38;5;241m==\u001b[39m \u001b[38;5;241m1\u001b[39m:\n\u001b[1;32m    164\u001b[0m   actions \u001b[38;5;241m=\u001b[39m nest_utils\u001b[38;5;241m.\u001b[39munbatch_nested_array(actions)\n\u001b[0;32m--> 165\u001b[0m   time_steps \u001b[38;5;241m=\u001b[39m \u001b[38;5;28;43mself\u001b[39;49m\u001b[38;5;241;43m.\u001b[39;49m\u001b[43m_envs\u001b[49m\u001b[43m[\u001b[49m\u001b[38;5;241;43m0\u001b[39;49m\u001b[43m]\u001b[49m\u001b[38;5;241;43m.\u001b[39;49m\u001b[43mstep\u001b[49m\u001b[43m(\u001b[49m\u001b[43mactions\u001b[49m\u001b[43m)\u001b[49m\n\u001b[1;32m    166\u001b[0m   \u001b[38;5;28;01mreturn\u001b[39;00m nest_utils\u001b[38;5;241m.\u001b[39mbatch_nested_array(time_steps)\n\u001b[1;32m    167\u001b[0m \u001b[38;5;28;01melse\u001b[39;00m:\n",
      "File \u001b[0;32m~/agents-master/tf_agents/environments/py_environment.py:232\u001b[0m, in \u001b[0;36mPyEnvironment.step\u001b[0;34m(self, action)\u001b[0m\n\u001b[1;32m    228\u001b[0m \u001b[38;5;28;01mif\u001b[39;00m (\u001b[38;5;28mself\u001b[39m\u001b[38;5;241m.\u001b[39m_current_time_step \u001b[38;5;129;01mis\u001b[39;00m \u001b[38;5;28;01mNone\u001b[39;00m \u001b[38;5;129;01mor\u001b[39;00m\n\u001b[1;32m    229\u001b[0m     \u001b[38;5;28mself\u001b[39m\u001b[38;5;241m.\u001b[39mshould_reset(\u001b[38;5;28mself\u001b[39m\u001b[38;5;241m.\u001b[39m_current_time_step)):\n\u001b[1;32m    230\u001b[0m   \u001b[38;5;28;01mreturn\u001b[39;00m \u001b[38;5;28mself\u001b[39m\u001b[38;5;241m.\u001b[39mreset()\n\u001b[0;32m--> 232\u001b[0m \u001b[38;5;28mself\u001b[39m\u001b[38;5;241m.\u001b[39m_current_time_step \u001b[38;5;241m=\u001b[39m \u001b[38;5;28;43mself\u001b[39;49m\u001b[38;5;241;43m.\u001b[39;49m\u001b[43m_step\u001b[49m\u001b[43m(\u001b[49m\u001b[43maction\u001b[49m\u001b[43m)\u001b[49m\n\u001b[1;32m    233\u001b[0m \u001b[38;5;28;01mreturn\u001b[39;00m \u001b[38;5;28mself\u001b[39m\u001b[38;5;241m.\u001b[39m_current_time_step\n",
      "Cell \u001b[0;32mIn[60], line 53\u001b[0m, in \u001b[0;36mPX4_RL_PID._step\u001b[0;34m(self, action)\u001b[0m\n\u001b[1;32m     51\u001b[0m \u001b[38;5;66;03m#wait for sample period\u001b[39;00m\n\u001b[1;32m     52\u001b[0m \u001b[38;5;28;01mwhile\u001b[39;00m time\u001b[38;5;241m.\u001b[39mtime() \u001b[38;5;241m-\u001b[39m \u001b[38;5;28mself\u001b[39m\u001b[38;5;241m.\u001b[39msample_stamp \u001b[38;5;241m<\u001b[39m \u001b[38;5;28mself\u001b[39m\u001b[38;5;241m.\u001b[39maction_period:\n\u001b[0;32m---> 53\u001b[0m     \u001b[43mtime\u001b[49m\u001b[38;5;241;43m.\u001b[39;49m\u001b[43msleep\u001b[49m\u001b[43m(\u001b[49m\u001b[38;5;28;43mself\u001b[39;49m\u001b[38;5;241;43m.\u001b[39;49m\u001b[43mdelay_period\u001b[49m\u001b[43m)\u001b[49m\n\u001b[1;32m     54\u001b[0m \u001b[38;5;28mself\u001b[39m\u001b[38;5;241m.\u001b[39msample_stamp \u001b[38;5;241m=\u001b[39m time\u001b[38;5;241m.\u001b[39mtime()\n\u001b[1;32m     56\u001b[0m px4_set_target_depth_local(\u001b[38;5;241m-\u001b[39mtarget_elevation)\n",
      "\u001b[0;31mKeyboardInterrupt\u001b[0m: "
     ]
    }
   ],
   "source": [
    "print(\"-----Evaluate----------\")\n",
    "# Evaluate the agent's policy once before training.\n",
    "os.system(\"rm px4_rl_output\"+str(eval_no_sample)+\".txt\")\n",
    "avg_return = compute_avg_return(eval_env, tf_agent.policy, num_eval_episodes)\n",
    "os.system(\"mv px4_rl_output\"+str(eval_no_sample)+\".txt px4_rl_output\"+str(eval_no_sample)+\"_600_2.txt\")\n",
    "returns = [avg_return]"
   ]
  },
  {
   "cell_type": "code",
   "execution_count": 36,
   "id": "41df0c8a",
   "metadata": {
    "scrolled": true
   },
   "outputs": [
    {
     "name": "stdout",
     "output_type": "stream",
     "text": [
      "Trajectory(\n",
      "{'action': <tf.Tensor: shape=(1, 602, 19), dtype=float32, numpy=\n",
      "array([[[1.3002155e+00, 3.9999999e-04, 4.7323430e-01, ...,\n",
      "         1.2532459e+00, 1.3139160e+00, 1.3547179e+00],\n",
      "        [2.2300816e+00, 9.9999998e-03, 1.7546251e-01, ...,\n",
      "         1.2722995e+00, 4.2809027e-01, 3.6948436e-01],\n",
      "        [1.3698295e+00, 3.9999999e-04, 5.0000000e-01, ...,\n",
      "         1.1123013e+00, 7.1225691e-01, 1.5294462e+00],\n",
      "        ...,\n",
      "        [1.2992641e+00, 3.9999999e-04, 1.6414665e-01, ...,\n",
      "         1.0957812e+00, 1.5206168e+00, 1.1224555e+00],\n",
      "        [1.5446138e+00, 9.9999998e-03, 2.9735506e-01, ...,\n",
      "         1.2604256e+00, 9.0154922e-01, 7.9961723e-01],\n",
      "        [1.5170914e+00, 3.9999999e-04, 1.0000000e-01, ...,\n",
      "         1.7505337e+00, 1.6113361e+00, 6.4633918e-01]]], dtype=float32)>,\n",
      " 'discount': <tf.Tensor: shape=(1, 602), dtype=float32, numpy=\n",
      "array([[1., 1., 1., 1., 1., 1., 1., 1., 1., 1., 1., 1., 1., 1., 1., 1.,\n",
      "        1., 1., 1., 1., 1., 1., 1., 1., 1., 1., 1., 1., 1., 1., 1., 1.,\n",
      "        1., 1., 1., 1., 1., 1., 1., 1., 1., 1., 1., 1., 1., 1., 1., 1.,\n",
      "        1., 1., 1., 1., 1., 1., 1., 1., 1., 1., 1., 1., 1., 1., 1., 1.,\n",
      "        1., 1., 1., 1., 1., 1., 1., 1., 1., 1., 1., 1., 1., 1., 1., 1.,\n",
      "        1., 1., 1., 1., 1., 1., 1., 1., 1., 1., 1., 1., 1., 1., 1., 1.,\n",
      "        1., 1., 1., 1., 1., 1., 1., 1., 1., 1., 1., 1., 1., 1., 1., 1.,\n",
      "        1., 1., 1., 1., 1., 1., 1., 1., 1., 1., 1., 1., 1., 1., 1., 1.,\n",
      "        1., 1., 1., 1., 1., 1., 1., 1., 1., 1., 1., 1., 1., 1., 1., 1.,\n",
      "        1., 1., 1., 1., 1., 1., 1., 1., 1., 1., 1., 1., 1., 1., 1., 1.,\n",
      "        1., 1., 1., 1., 1., 1., 1., 1., 1., 1., 1., 1., 1., 1., 1., 1.,\n",
      "        1., 1., 1., 1., 1., 1., 1., 1., 1., 1., 1., 1., 1., 1., 1., 1.,\n",
      "        1., 1., 1., 1., 1., 1., 1., 1., 1., 1., 1., 1., 1., 1., 1., 1.,\n",
      "        1., 1., 1., 1., 1., 1., 1., 1., 1., 1., 1., 1., 1., 1., 1., 1.,\n",
      "        1., 1., 1., 1., 1., 1., 1., 1., 1., 1., 1., 1., 1., 1., 1., 1.,\n",
      "        1., 1., 1., 1., 1., 1., 1., 1., 1., 1., 1., 1., 1., 1., 1., 1.,\n",
      "        1., 1., 1., 1., 1., 1., 1., 1., 1., 1., 1., 1., 1., 1., 1., 1.,\n",
      "        1., 1., 1., 1., 1., 1., 1., 1., 1., 1., 1., 1., 1., 1., 1., 1.,\n",
      "        1., 1., 1., 1., 1., 1., 1., 1., 1., 1., 1., 1., 1., 1., 1., 1.,\n",
      "        1., 1., 1., 1., 1., 1., 1., 1., 1., 1., 1., 1., 1., 1., 1., 1.,\n",
      "        1., 1., 1., 1., 1., 1., 1., 1., 1., 1., 1., 1., 1., 1., 1., 1.,\n",
      "        1., 1., 1., 1., 1., 1., 1., 1., 1., 1., 1., 1., 1., 1., 1., 1.,\n",
      "        1., 1., 1., 1., 1., 1., 1., 1., 1., 1., 1., 1., 1., 1., 1., 1.,\n",
      "        1., 1., 1., 1., 1., 1., 1., 1., 1., 1., 1., 1., 1., 1., 1., 1.,\n",
      "        1., 1., 1., 1., 1., 1., 1., 1., 1., 1., 1., 1., 1., 1., 1., 1.,\n",
      "        1., 1., 1., 1., 1., 1., 1., 1., 1., 1., 1., 1., 1., 1., 1., 1.,\n",
      "        1., 1., 1., 1., 1., 1., 1., 1., 1., 1., 1., 1., 1., 1., 1., 1.,\n",
      "        1., 1., 1., 1., 1., 1., 1., 1., 1., 1., 1., 1., 1., 1., 1., 1.,\n",
      "        1., 1., 1., 1., 1., 1., 1., 1., 1., 1., 1., 1., 1., 1., 1., 1.,\n",
      "        1., 1., 1., 1., 1., 1., 1., 1., 1., 1., 1., 1., 1., 1., 1., 1.,\n",
      "        1., 1., 1., 1., 1., 1., 1., 1., 1., 1., 1., 1., 1., 1., 1., 1.,\n",
      "        1., 1., 1., 1., 1., 1., 1., 1., 1., 1., 1., 1., 1., 1., 1., 1.,\n",
      "        1., 1., 1., 1., 1., 1., 1., 1., 1., 1., 1., 1., 1., 1., 1., 1.,\n",
      "        1., 1., 1., 1., 1., 1., 1., 1., 1., 1., 1., 1., 1., 1., 1., 1.,\n",
      "        1., 1., 1., 1., 1., 1., 1., 1., 1., 1., 1., 1., 1., 1., 1., 1.,\n",
      "        1., 1., 1., 1., 1., 1., 1., 1., 1., 1., 1., 1., 1., 1., 1., 1.,\n",
      "        1., 1., 1., 1., 1., 1., 1., 1., 1., 1., 1., 1., 1., 1., 1., 1.,\n",
      "        1., 1., 1., 1., 1., 1., 1., 1., 0., 1.]], dtype=float32)>,\n",
      " 'next_step_type': <tf.Tensor: shape=(1, 602), dtype=int32, numpy=\n",
      "array([[1, 1, 1, 1, 1, 1, 1, 1, 1, 1, 1, 1, 1, 1, 1, 1, 1, 1, 1, 1, 1, 1,\n",
      "        1, 1, 1, 1, 1, 1, 1, 1, 1, 1, 1, 1, 1, 1, 1, 1, 1, 1, 1, 1, 1, 1,\n",
      "        1, 1, 1, 1, 1, 1, 1, 1, 1, 1, 1, 1, 1, 1, 1, 1, 1, 1, 1, 1, 1, 1,\n",
      "        1, 1, 1, 1, 1, 1, 1, 1, 1, 1, 1, 1, 1, 1, 1, 1, 1, 1, 1, 1, 1, 1,\n",
      "        1, 1, 1, 1, 1, 1, 1, 1, 1, 1, 1, 1, 1, 1, 1, 1, 1, 1, 1, 1, 1, 1,\n",
      "        1, 1, 1, 1, 1, 1, 1, 1, 1, 1, 1, 1, 1, 1, 1, 1, 1, 1, 1, 1, 1, 1,\n",
      "        1, 1, 1, 1, 1, 1, 1, 1, 1, 1, 1, 1, 1, 1, 1, 1, 1, 1, 1, 1, 1, 1,\n",
      "        1, 1, 1, 1, 1, 1, 1, 1, 1, 1, 1, 1, 1, 1, 1, 1, 1, 1, 1, 1, 1, 1,\n",
      "        1, 1, 1, 1, 1, 1, 1, 1, 1, 1, 1, 1, 1, 1, 1, 1, 1, 1, 1, 1, 1, 1,\n",
      "        1, 1, 1, 1, 1, 1, 1, 1, 1, 1, 1, 1, 1, 1, 1, 1, 1, 1, 1, 1, 1, 1,\n",
      "        1, 1, 1, 1, 1, 1, 1, 1, 1, 1, 1, 1, 1, 1, 1, 1, 1, 1, 1, 1, 1, 1,\n",
      "        1, 1, 1, 1, 1, 1, 1, 1, 1, 1, 1, 1, 1, 1, 1, 1, 1, 1, 1, 1, 1, 1,\n",
      "        1, 1, 1, 1, 1, 1, 1, 1, 1, 1, 1, 1, 1, 1, 1, 1, 1, 1, 1, 1, 1, 1,\n",
      "        1, 1, 1, 1, 1, 1, 1, 1, 1, 1, 1, 1, 1, 1, 1, 1, 1, 1, 1, 1, 1, 1,\n",
      "        1, 1, 1, 1, 1, 1, 1, 1, 1, 1, 1, 1, 1, 1, 1, 1, 1, 1, 1, 1, 1, 1,\n",
      "        1, 1, 1, 1, 1, 1, 1, 1, 1, 1, 1, 1, 1, 1, 1, 1, 1, 1, 1, 1, 1, 1,\n",
      "        1, 1, 1, 1, 1, 1, 1, 1, 1, 1, 1, 1, 1, 1, 1, 1, 1, 1, 1, 1, 1, 1,\n",
      "        1, 1, 1, 1, 1, 1, 1, 1, 1, 1, 1, 1, 1, 1, 1, 1, 1, 1, 1, 1, 1, 1,\n",
      "        1, 1, 1, 1, 1, 1, 1, 1, 1, 1, 1, 1, 1, 1, 1, 1, 1, 1, 1, 1, 1, 1,\n",
      "        1, 1, 1, 1, 1, 1, 1, 1, 1, 1, 1, 1, 1, 1, 1, 1, 1, 1, 1, 1, 1, 1,\n",
      "        1, 1, 1, 1, 1, 1, 1, 1, 1, 1, 1, 1, 1, 1, 1, 1, 1, 1, 1, 1, 1, 1,\n",
      "        1, 1, 1, 1, 1, 1, 1, 1, 1, 1, 1, 1, 1, 1, 1, 1, 1, 1, 1, 1, 1, 1,\n",
      "        1, 1, 1, 1, 1, 1, 1, 1, 1, 1, 1, 1, 1, 1, 1, 1, 1, 1, 1, 1, 1, 1,\n",
      "        1, 1, 1, 1, 1, 1, 1, 1, 1, 1, 1, 1, 1, 1, 1, 1, 1, 1, 1, 1, 1, 1,\n",
      "        1, 1, 1, 1, 1, 1, 1, 1, 1, 1, 1, 1, 1, 1, 1, 1, 1, 1, 1, 1, 1, 1,\n",
      "        1, 1, 1, 1, 1, 1, 1, 1, 1, 1, 1, 1, 1, 1, 1, 1, 1, 1, 1, 1, 1, 1,\n",
      "        1, 1, 1, 1, 1, 1, 1, 1, 1, 1, 1, 1, 1, 1, 1, 1, 1, 1, 1, 1, 1, 1,\n",
      "        1, 1, 1, 1, 1, 1, 2, 0]], dtype=int32)>,\n",
      " 'observation': <tf.Tensor: shape=(1, 602, 50), dtype=float32, numpy=\n",
      "array([[[ 0.        ,  0.        ,  0.        , ...,  0.        ,\n",
      "          0.        ,  0.        ],\n",
      "        [ 0.01586914,  0.00469971, -0.06414795, ...,  0.012     ,\n",
      "          0.045     , -0.018     ],\n",
      "        [ 0.01544189,  0.00372314, -0.06280518, ...,  0.014     ,\n",
      "          0.045     , -0.018     ],\n",
      "        ...,\n",
      "        [ 0.01550293, -0.01257324, -0.05926514, ...,  0.012     ,\n",
      "          0.039     , -0.01      ],\n",
      "        [ 0.01416016, -0.01373291, -0.06433105, ...,  0.        ,\n",
      "          0.039     , -0.01      ],\n",
      "        [ 0.01293945,  0.01086426, -0.0480957 , ..., -0.01      ,\n",
      "          0.039     , -0.01      ]]], dtype=float32)>,\n",
      " 'policy_info': (),\n",
      " 'reward': <tf.Tensor: shape=(1, 602), dtype=float32, numpy=\n",
      "array([[0.403085  , 0.37949568, 0.36456552, 0.3598234 , 0.36332086,\n",
      "        0.36868164, 0.3783248 , 0.38935456, 0.39786366, 0.39726448,\n",
      "        0.37838897, 0.36024046, 0.33055502, 0.2960395 , 0.26443934,\n",
      "        0.23670112, 0.21773273, 0.20228653, 0.18905145, 0.17526804,\n",
      "        0.1634705 , 0.15387177, 0.14564356, 0.13779502, 0.13043875,\n",
      "        0.11825103, 0.11070229, 0.10295696, 0.09525318, 0.08876425,\n",
      "        0.08251129, 0.07833495, 0.07627977, 0.07542109, 0.07495359,\n",
      "        0.07469338, 0.07433435, 0.07344063, 0.07195883, 0.07070098,\n",
      "        0.07006351, 0.07041175, 0.07076094, 0.07143528, 0.07300377,\n",
      "        0.07516317, 0.0773222 , 0.08023203, 0.08401181, 0.08888851,\n",
      "        0.09511461, 0.10122874, 0.10637968, 0.111396  , 0.11517536,\n",
      "        0.11805522, 0.11873873, 0.11751888, 0.11543814, 0.11389164,\n",
      "        0.11484606, 0.11833253, 0.12494589, 0.13372628, 0.14524119,\n",
      "        0.15447351, 0.16315396, 0.16502814, 0.16676922, 0.16892274,\n",
      "        0.17055655, 0.1715014 , 0.17150332, 0.17112058, 0.1741722 ,\n",
      "        0.18081324, 0.18767984, 0.1923366 , 0.18691579, 0.17963596,\n",
      "        0.16629334, 0.16248226, 0.15884247, 0.15548989, 0.15346496,\n",
      "        0.15287234, 0.15276425, 0.1533116 , 0.15567024, 0.1592315 ,\n",
      "        0.16327806, 0.16700718, 0.17138049, 0.17347907, 0.17407936,\n",
      "        0.1745931 , 0.17516607, 0.17550865, 0.17808759, 0.18023817,\n",
      "        0.18158929, 0.1811249 , 0.17908266, 0.17638643, 0.17378543,\n",
      "        0.17039087, 0.16729484, 0.16336384, 0.15959407, 0.15573557,\n",
      "        0.15208331, 0.14841603, 0.1477504 , 0.14919266, 0.15071103,\n",
      "        0.1543431 , 0.15946235, 0.16403693, 0.17043914, 0.17827144,\n",
      "        0.18669802, 0.1923415 , 0.19759542, 0.20133065, 0.20311865,\n",
      "        0.20365497, 0.20690475, 0.21098757, 0.21030928, 0.21084082,\n",
      "        0.21304303, 0.21338588, 0.20953555, 0.20289026, 0.19766024,\n",
      "        0.1932864 , 0.1870265 , 0.18114483, 0.17859823, 0.17757791,\n",
      "        0.17607751, 0.1742056 , 0.1719105 , 0.16876367, 0.16613658,\n",
      "        0.16470166, 0.16284949, 0.16075848, 0.15936024, 0.16118088,\n",
      "        0.16562738, 0.17087531, 0.17804556, 0.18637176, 0.19866356,\n",
      "        0.2124225 , 0.229045  , 0.23061918, 0.2146091 , 0.20034824,\n",
      "        0.1759005 , 0.16674839, 0.16006961, 0.1554341 , 0.15299356,\n",
      "        0.15127912, 0.15068623, 0.15219119, 0.15751636, 0.16574061,\n",
      "        0.17420293, 0.18634841, 0.20023315, 0.21282654, 0.2129314 ,\n",
      "        0.20135038, 0.18999039, 0.1787135 , 0.17081302, 0.15868376,\n",
      "        0.15564492, 0.15413211, 0.1539328 , 0.15539019, 0.15837277,\n",
      "        0.1624274 , 0.16872275, 0.1776934 , 0.19039221, 0.20417447,\n",
      "        0.22219479, 0.23741654, 0.22492851, 0.21172987, 0.20060557,\n",
      "        0.19393508, 0.18842734, 0.18205307, 0.17644714, 0.17398392,\n",
      "        0.1720779 , 0.17013419, 0.16952935, 0.17337613, 0.177227  ,\n",
      "        0.1826089 , 0.18858066, 0.19685793, 0.20680784, 0.21940157,\n",
      "        0.2322361 , 0.23297672, 0.21423411, 0.19545849, 0.18024416,\n",
      "        0.16637969, 0.15863341, 0.15310386, 0.14823927, 0.14317119,\n",
      "        0.13780637, 0.13698217, 0.13684914, 0.13749689, 0.13969362,\n",
      "        0.14259645, 0.14689009, 0.15216562, 0.1574048 , 0.16460015,\n",
      "        0.17345063, 0.18253452, 0.19284356, 0.20200919, 0.20963262,\n",
      "        0.21249467, 0.21142524, 0.2086944 , 0.2048148 , 0.19962138,\n",
      "        0.19943434, 0.19941719, 0.20026593, 0.20227672, 0.2017597 ,\n",
      "        0.19939113, 0.19807777, 0.19639996, 0.19173776, 0.18417165,\n",
      "        0.17653178, 0.16865301, 0.16291682, 0.15861209, 0.15810002,\n",
      "        0.16440275, 0.16907701, 0.17536266, 0.18000971, 0.1801166 ,\n",
      "        0.17504695, 0.1681521 , 0.16201356, 0.16282114, 0.16827388,\n",
      "        0.1765561 , 0.18832299, 0.19744514, 0.2042455 , 0.19917819,\n",
      "        0.19269188, 0.1847031 , 0.1774612 , 0.17205366, 0.16907763,\n",
      "        0.16646786, 0.16495506, 0.16481262, 0.16608956, 0.1682256 ,\n",
      "        0.17088987, 0.17534786, 0.18150865, 0.1972141 , 0.20830333,\n",
      "        0.22007786, 0.23187082, 0.23900831, 0.24063553, 0.23682597,\n",
      "        0.23115698, 0.22730978, 0.22411333, 0.22208647, 0.22074114,\n",
      "        0.2193869 , 0.2184481 , 0.21688409, 0.21438001, 0.2120852 ,\n",
      "        0.20974337, 0.20590948, 0.20204486, 0.20047303, 0.20086488,\n",
      "        0.20306171, 0.20545366, 0.20960388, 0.21513636, 0.22134246,\n",
      "        0.22443256, 0.22621547, 0.2284529 , 0.23033527, 0.23147774,\n",
      "        0.2326916 , 0.2309578 , 0.2295591 , 0.22910418, 0.23324755,\n",
      "        0.2404302 , 0.24720259, 0.24977386, 0.24551435, 0.23785968,\n",
      "        0.23106875, 0.2237765 , 0.21870178, 0.21532987, 0.2118735 ,\n",
      "        0.21102515, 0.2110822 , 0.21207765, 0.2162525 , 0.2225807 ,\n",
      "        0.22938769, 0.23320301, 0.23348597, 0.23170489, 0.22897527,\n",
      "        0.22668208, 0.22568731, 0.22613244, 0.22661301, 0.22806579,\n",
      "        0.2295649 , 0.23029546, 0.2301391 , 0.2264919 , 0.21977618,\n",
      "        0.21200638, 0.20539847, 0.19885837, 0.19315788, 0.18812   ,\n",
      "        0.18455938, 0.18148878, 0.18294008, 0.18509667, 0.1879402 ,\n",
      "        0.19207522, 0.19849448, 0.20149413, 0.19585003, 0.18478729,\n",
      "        0.17217484, 0.16468112, 0.1605059 , 0.15954836, 0.15992302,\n",
      "        0.16132247, 0.16438968, 0.16927005, 0.1824905 , 0.19025892,\n",
      "        0.19521143, 0.19985147, 0.20358488, 0.20718245, 0.21136321,\n",
      "        0.21700346, 0.22195958, 0.2268455 , 0.23150446, 0.23774306,\n",
      "        0.24147813, 0.2439595 , 0.2425822 , 0.23235278, 0.21839695,\n",
      "        0.20578781, 0.19772106, 0.18983813, 0.18215166, 0.17350891,\n",
      "        0.15486166, 0.14532009, 0.13534985, 0.12801243, 0.12234413,\n",
      "        0.11804087, 0.11456614, 0.11279312, 0.11231635, 0.11173693,\n",
      "        0.1129306 , 0.11547256, 0.11861831, 0.12194774, 0.12571378,\n",
      "        0.13666244, 0.14247146, 0.14920957, 0.15468512, 0.1608424 ,\n",
      "        0.16571996, 0.17009458, 0.17379802, 0.17804244, 0.18345092,\n",
      "        0.19048744, 0.1961087 , 0.19902539, 0.19878393, 0.1860634 ,\n",
      "        0.17537555, 0.16645776, 0.16018307, 0.15597588, 0.15208733,\n",
      "        0.1495114 , 0.1483939 , 0.14758445, 0.14657089, 0.14543276,\n",
      "        0.1440198 , 0.14313368, 0.14446571, 0.14868149, 0.15717052,\n",
      "        0.16860218, 0.18424618, 0.20362274, 0.2336469 , 0.20995136,\n",
      "        0.19155233, 0.17958018, 0.17392726, 0.17035736, 0.16885467,\n",
      "        0.16973737, 0.17302048, 0.17855465, 0.18513301, 0.19334194,\n",
      "        0.20081174, 0.20820642, 0.21551572, 0.2239171 , 0.23136628,\n",
      "        0.23963732, 0.24510837, 0.21311001, 0.19763324, 0.19022219,\n",
      "        0.18456937, 0.1786453 , 0.17285523, 0.16871507, 0.16813244,\n",
      "        0.17023836, 0.17348553, 0.17559324, 0.17690842, 0.17792173,\n",
      "        0.17907536, 0.17790261, 0.17620236, 0.17372482, 0.16928984,\n",
      "        0.16294554, 0.15690681, 0.15158612, 0.14774211, 0.14566852,\n",
      "        0.14399889, 0.14195564, 0.14029995, 0.13846304, 0.13465065,\n",
      "        0.12918058, 0.12485062, 0.12131947, 0.1164879 , 0.11479647,\n",
      "        0.11357189, 0.11327285, 0.11341045, 0.11407134, 0.11544623,\n",
      "        0.11721419, 0.12007126, 0.12421133, 0.12926379, 0.13402997,\n",
      "        0.13848536, 0.14107706, 0.14080293, 0.14072114, 0.14041646,\n",
      "        0.13826737, 0.13565153, 0.13182417, 0.12810285, 0.12563716,\n",
      "        0.12446223, 0.12385406, 0.12396985, 0.12398971, 0.1246832 ,\n",
      "        0.12694639, 0.1288348 , 0.13031423, 0.1286465 , 0.12608503,\n",
      "        0.1220523 , 0.11719365, 0.11161707, 0.10641082, 0.10100432,\n",
      "        0.09661379, 0.09338054, 0.08987164, 0.08717571, 0.08548887,\n",
      "        0.08483322, 0.08503743, 0.08581045, 0.08871695, 0.090228  ,\n",
      "        0.09174494, 0.09290636, 0.09382619, 0.0941695 , 0.09407268,\n",
      "        0.09347475, 0.09244078, 0.09124942, 0.09038638, 0.09086401,\n",
      "        0.0919996 , 0.0960188 , 0.09907685, 0.10321794, 0.10790384,\n",
      "        0.1134558 , 0.11832441, 0.12409861, 0.12946391, 0.13514322,\n",
      "        0.14011054, 0.14511463, 0.14945407, 0.15661165, 0.15722416,\n",
      "        0.15580961, 0.15218271, 0.1481798 , 0.14780594, 0.15189889,\n",
      "        0.15938526, 0.16764367, 0.17687069, 0.18284337, 0.19410834,\n",
      "        0.19869982, 0.20265576, 0.20529114, 0.20206937, 0.19442375,\n",
      "        0.18638861, 0.17798445, 0.17145811, 0.16520232, 0.15926962,\n",
      "        0.1551941 , 0.15311134, 0.151585  , 0.15118392, 0.15204333,\n",
      "        0.15313496, 0.15412737, 0.15542865, 0.15685612, 0.15840895,\n",
      "        0.16085362, 0.16127408, 0.15968485, 0.15775783, 0.1569274 ,\n",
      "        0.15698057, 0.        ]], dtype=float32)>,\n",
      " 'step_type': <tf.Tensor: shape=(1, 602), dtype=int32, numpy=\n",
      "array([[0, 1, 1, 1, 1, 1, 1, 1, 1, 1, 1, 1, 1, 1, 1, 1, 1, 1, 1, 1, 1, 1,\n",
      "        1, 1, 1, 1, 1, 1, 1, 1, 1, 1, 1, 1, 1, 1, 1, 1, 1, 1, 1, 1, 1, 1,\n",
      "        1, 1, 1, 1, 1, 1, 1, 1, 1, 1, 1, 1, 1, 1, 1, 1, 1, 1, 1, 1, 1, 1,\n",
      "        1, 1, 1, 1, 1, 1, 1, 1, 1, 1, 1, 1, 1, 1, 1, 1, 1, 1, 1, 1, 1, 1,\n",
      "        1, 1, 1, 1, 1, 1, 1, 1, 1, 1, 1, 1, 1, 1, 1, 1, 1, 1, 1, 1, 1, 1,\n",
      "        1, 1, 1, 1, 1, 1, 1, 1, 1, 1, 1, 1, 1, 1, 1, 1, 1, 1, 1, 1, 1, 1,\n",
      "        1, 1, 1, 1, 1, 1, 1, 1, 1, 1, 1, 1, 1, 1, 1, 1, 1, 1, 1, 1, 1, 1,\n",
      "        1, 1, 1, 1, 1, 1, 1, 1, 1, 1, 1, 1, 1, 1, 1, 1, 1, 1, 1, 1, 1, 1,\n",
      "        1, 1, 1, 1, 1, 1, 1, 1, 1, 1, 1, 1, 1, 1, 1, 1, 1, 1, 1, 1, 1, 1,\n",
      "        1, 1, 1, 1, 1, 1, 1, 1, 1, 1, 1, 1, 1, 1, 1, 1, 1, 1, 1, 1, 1, 1,\n",
      "        1, 1, 1, 1, 1, 1, 1, 1, 1, 1, 1, 1, 1, 1, 1, 1, 1, 1, 1, 1, 1, 1,\n",
      "        1, 1, 1, 1, 1, 1, 1, 1, 1, 1, 1, 1, 1, 1, 1, 1, 1, 1, 1, 1, 1, 1,\n",
      "        1, 1, 1, 1, 1, 1, 1, 1, 1, 1, 1, 1, 1, 1, 1, 1, 1, 1, 1, 1, 1, 1,\n",
      "        1, 1, 1, 1, 1, 1, 1, 1, 1, 1, 1, 1, 1, 1, 1, 1, 1, 1, 1, 1, 1, 1,\n",
      "        1, 1, 1, 1, 1, 1, 1, 1, 1, 1, 1, 1, 1, 1, 1, 1, 1, 1, 1, 1, 1, 1,\n",
      "        1, 1, 1, 1, 1, 1, 1, 1, 1, 1, 1, 1, 1, 1, 1, 1, 1, 1, 1, 1, 1, 1,\n",
      "        1, 1, 1, 1, 1, 1, 1, 1, 1, 1, 1, 1, 1, 1, 1, 1, 1, 1, 1, 1, 1, 1,\n",
      "        1, 1, 1, 1, 1, 1, 1, 1, 1, 1, 1, 1, 1, 1, 1, 1, 1, 1, 1, 1, 1, 1,\n",
      "        1, 1, 1, 1, 1, 1, 1, 1, 1, 1, 1, 1, 1, 1, 1, 1, 1, 1, 1, 1, 1, 1,\n",
      "        1, 1, 1, 1, 1, 1, 1, 1, 1, 1, 1, 1, 1, 1, 1, 1, 1, 1, 1, 1, 1, 1,\n",
      "        1, 1, 1, 1, 1, 1, 1, 1, 1, 1, 1, 1, 1, 1, 1, 1, 1, 1, 1, 1, 1, 1,\n",
      "        1, 1, 1, 1, 1, 1, 1, 1, 1, 1, 1, 1, 1, 1, 1, 1, 1, 1, 1, 1, 1, 1,\n",
      "        1, 1, 1, 1, 1, 1, 1, 1, 1, 1, 1, 1, 1, 1, 1, 1, 1, 1, 1, 1, 1, 1,\n",
      "        1, 1, 1, 1, 1, 1, 1, 1, 1, 1, 1, 1, 1, 1, 1, 1, 1, 1, 1, 1, 1, 1,\n",
      "        1, 1, 1, 1, 1, 1, 1, 1, 1, 1, 1, 1, 1, 1, 1, 1, 1, 1, 1, 1, 1, 1,\n",
      "        1, 1, 1, 1, 1, 1, 1, 1, 1, 1, 1, 1, 1, 1, 1, 1, 1, 1, 1, 1, 1, 1,\n",
      "        1, 1, 1, 1, 1, 1, 1, 1, 1, 1, 1, 1, 1, 1, 1, 1, 1, 1, 1, 1, 1, 1,\n",
      "        1, 1, 1, 1, 1, 1, 1, 2]], dtype=int32)>})\n"
     ]
    }
   ],
   "source": [
    "print(trajectories)"
   ]
  },
  {
   "cell_type": "code",
   "execution_count": null,
   "id": "d1f7f28b",
   "metadata": {},
   "outputs": [],
   "source": [
    "#620 is nan or inf error during training\n",
    "#620 failure again restored to 610\n",
    "Loss is inf or nan : Tensor had NaN values\n",
    "\t [[{{node CheckNumerics}}]] [Op:__inference_train_3398984]\n",
    "#610 failed, restored to 600\n",
    "#restarted px4 and jupyter, restore 610\n",
    "#651 drone flipped, restarted\n",
    "#652 drone flipped, restarted\n",
    "#653 drone flipped. Give up\n",
    "#repeat 600 eval to confirm statistics. stored as _600_2.txt. Original is copied at _600_0.txt\n",
    "#600 shows good eval still"
   ]
  }
 ],
 "metadata": {
  "kernelspec": {
   "display_name": "Python 3",
   "language": "python",
   "name": "python3"
  },
  "language_info": {
   "codemirror_mode": {
    "name": "ipython",
    "version": 3
   },
   "file_extension": ".py",
   "mimetype": "text/x-python",
   "name": "python",
   "nbconvert_exporter": "python",
   "pygments_lexer": "ipython3",
   "version": "3.9.16"
  },
  "vscode": {
   "interpreter": {
    "hash": "9dd44cc7cdc92411168bb684a40e881a5987d51da6be091f1590f98673f9fec9"
   }
  }
 },
 "nbformat": 4,
 "nbformat_minor": 5
}
